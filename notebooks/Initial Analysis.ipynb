{
 "cells": [
  {
   "cell_type": "code",
   "execution_count": 1,
   "metadata": {
    "collapsed": true
   },
   "outputs": [],
   "source": [
    "%matplotlib inline"
   ]
  },
  {
   "cell_type": "code",
   "execution_count": 2,
   "metadata": {
    "collapsed": false
   },
   "outputs": [],
   "source": [
    "import os\n",
    "import sys\n",
    "\n",
    "project_dir = os.path.split(os.getcwd())[0]\n",
    "\n",
    "if project_dir not in sys.path:\n",
    "   sys.path.append(project_dir)\n",
    "\n",
    "from lyricanalysis import corpus"
   ]
  },
  {
   "cell_type": "markdown",
   "metadata": {},
   "source": [
    "# Load up all of the songs for given artist"
   ]
  },
  {
   "cell_type": "code",
   "execution_count": 3,
   "metadata": {
    "collapsed": false
   },
   "outputs": [],
   "source": [
    "songs = corpus.songs_for_artist('Eminem')"
   ]
  },
  {
   "cell_type": "markdown",
   "metadata": {},
   "source": [
    "# Clean the lyrics"
   ]
  },
  {
   "cell_type": "code",
   "execution_count": 4,
   "metadata": {
    "collapsed": false
   },
   "outputs": [],
   "source": [
    "import re\n",
    "\n",
    "tagged = re.compile('\\[.*\\]')\n",
    "produced = re.compile('[p|P]roduced.*')\n",
    "\n",
    "def clean_lyrics(lyrics):\n",
    "    new_lyrics = tagged.sub('', lyrics)\n",
    "    new_lyrics = produced.sub('', new_lyrics)\n",
    "    \n",
    "    return new_lyrics\n",
    "\n",
    "for song in songs:\n",
    "    song['lyrics'] = clean_lyrics(song['lyrics'])"
   ]
  },
  {
   "cell_type": "markdown",
   "metadata": {},
   "source": [
    "# Word tokenize, remove stop words and stem"
   ]
  },
  {
   "cell_type": "code",
   "execution_count": 5,
   "metadata": {
    "collapsed": false
   },
   "outputs": [],
   "source": [
    "import string\n",
    "import unicodedata\n",
    "import sys\n",
    "\n",
    "from nltk.corpus import stopwords\n",
    "from nltk.tokenize import word_tokenize\n",
    "from nltk import FreqDist\n",
    "from nltk.stem import PorterStemmer\n",
    "\n",
    "import pandas as pd\n",
    "import seaborn as sns\n",
    "\n",
    "punc_tbl = dict.fromkeys(i for i in range(sys.maxunicode)\n",
    "                      if unicodedata.category(chr(i)).startswith('P'))\n",
    "\n",
    "def stem_words(words):\n",
    "    stemmer = PorterStemmer()\n",
    "    return [stemmer.stem(w) for w in words]\n",
    "\n",
    "def remove_punctuation(text):\n",
    "    return text.translate(punc_tbl)\n",
    "\n",
    "def remove_stop_words(words):\n",
    "    \"\"\"Remove stop words from a list of words.\"\"\"\n",
    "    wl = []    \n",
    "    stop_words = corpus.stop_words()\n",
    "    for word in words:\n",
    "        word = word.lower()\n",
    "        if word not in stop_words:\n",
    "            wl.append(word)\n",
    "    \n",
    "    return wl\n",
    "\n",
    "normalized_word_frequencies = {}\n",
    "\n",
    "for song in songs:\n",
    "    song['word_tokens'] = stem_words(remove_stop_words(word_tokenize(remove_punctuation(song['lyrics']))))\n",
    "    dist = FreqDist(song['word_tokens'])\n",
    "\n",
    "    for w in dist:\n",
    "        if not w in normalized_word_frequencies:\n",
    "            normalized_word_frequencies[w] = 0\n",
    "\n",
    "        normalized_word_frequencies[w] = normalized_word_frequencies[w] + dist.freq(w)\n",
    "        \n",
    "for w, v in normalized_word_frequencies.items():\n",
    "    normalized_word_frequencies[w] = v / len(songs)"
   ]
  },
  {
   "cell_type": "code",
   "execution_count": 6,
   "metadata": {
    "collapsed": false
   },
   "outputs": [
    {
     "data": {
      "text/plain": [
       "<matplotlib.text.Text at 0x7f8f1cbe92e8>"
      ]
     },
     "execution_count": 6,
     "metadata": {},
     "output_type": "execute_result"
    },
    {
     "name": "stderr",
     "output_type": "stream",
     "text": [
      "/software/miniconda3/lib/python3.5/site-packages/matplotlib/font_manager.py:1297: UserWarning: findfont: Font family ['sans-serif'] not found. Falling back to DejaVu Sans\n",
      "  (prop.get_family(), self.defaultFamily[fontext]))\n"
     ]
    },
    {
     "data": {
      "image/png": "[encoded data removed]",
      "text/plain": [
       "<matplotlib.figure.Figure at 0x7f8f1d728cc0>"
      ]
     },
     "metadata": {},
     "output_type": "display_data"
    }
   ],
   "source": [
    "df = pd.DataFrame.from_dict(normalized_word_frequencies, orient='index')\n",
    "word_freq = df.nlargest(25, 0).plot(kind='bar', title='Normalized Word Frequency', legend=False)\n",
    "word_freq.set_xlabel(\"Word\")\n",
    "word_freq.set_ylabel(\"Distribution\")"
   ]
  },
  {
   "cell_type": "markdown",
   "metadata": {},
   "source": [
    "# Stemmed and normalized swear word frequency"
   ]
  },
  {
   "cell_type": "code",
   "execution_count": 7,
   "metadata": {
    "collapsed": true
   },
   "outputs": [],
   "source": [
    "swear_words = set(stem_words(corpus.swear_words()))\n",
    "\n",
    "normalized_word_frequencies = {}\n",
    "\n",
    "for song in songs:\n",
    "    song['word_tokens'] = stem_words(remove_stop_words(word_tokenize(remove_punctuation(song['lyrics']))))\n",
    "    dist = FreqDist(song['word_tokens'])\n",
    "\n",
    "    for sw in swear_words:\n",
    "        if not sw in normalized_word_frequencies:\n",
    "            normalized_word_frequencies[sw] = 0\n",
    "\n",
    "        normalized_word_frequencies[sw] = normalized_word_frequencies[sw] + dist.freq(sw)\n",
    "        \n",
    "for w, v in normalized_word_frequencies.items():\n",
    "    normalized_word_frequencies[w] = v / len(songs)"
   ]
  },
  {
   "cell_type": "code",
   "execution_count": 8,
   "metadata": {
    "collapsed": false
   },
   "outputs": [
    {
     "data": {
      "text/plain": [
       "<matplotlib.text.Text at 0x7f8f1cbfcdd8>"
      ]
     },
     "execution_count": 8,
     "metadata": {},
     "output_type": "execute_result"
    },
    {
     "name": "stderr",
     "output_type": "stream",
     "text": [
      "/software/miniconda3/lib/python3.5/site-packages/matplotlib/font_manager.py:1297: UserWarning: findfont: Font family ['sans-serif'] not found. Falling back to DejaVu Sans\n",
      "  (prop.get_family(), self.defaultFamily[fontext]))\n"
     ]
    },
    {
     "data": {
      "image/png": "[encoded data removed]",
      "text/plain": [
       "<matplotlib.figure.Figure at 0x7f8f1cbf6550>"
      ]
     },
     "metadata": {},
     "output_type": "display_data"
    }
   ],
   "source": [
    "df = pd.DataFrame.from_dict(normalized_word_frequencies, orient='index')\n",
    "word_freq = df.nlargest(5, 0).plot(kind='bar', title='Swear Word Frequency', legend=False)\n",
    "word_freq.set_xlabel(\"Word\")\n",
    "word_freq.set_ylabel(\"Distribution\")"
   ]
  },
  {
   "cell_type": "markdown",
   "metadata": {},
   "source": [
    "# Sentiment analysis with Vader"
   ]
  },
  {
   "cell_type": "code",
   "execution_count": 9,
   "metadata": {
    "collapsed": false
   },
   "outputs": [
    {
     "name": "stderr",
     "output_type": "stream",
     "text": [
      "/software/miniconda3/lib/python3.5/site-packages/nltk/twitter/__init__.py:20: UserWarning: The twython library has not been installed. Some functionality from the twitter package will not be available.\n",
      "  warnings.warn(\"The twython library has not been installed. \"\n"
     ]
    },
    {
     "name": "stdout",
     "output_type": "stream",
     "text": [
      "{'compound': -0.06662312754832482, 'positive': 0.08169777852618663, 'negative': 0.11869140141214184, 'neutral': 0.7932126125538894}\n"
     ]
    }
   ],
   "source": [
    "from nltk.sentiment.vader import SentimentIntensityAnalyzer\n",
    "from nltk.tokenize import sent_tokenize\n",
    "\n",
    "\n",
    "def split_sentences(text):\n",
    "    sentences = []\n",
    "    for sentence in text.split('\\n'):\n",
    "        sentence = sentence.strip()\n",
    "        \n",
    "        if sentence:\n",
    "            sentences.append(sentence)\n",
    "\n",
    "    return sentences\n",
    "\n",
    "\n",
    "def sentiment_for_song(text):\n",
    "    sid = SentimentIntensityAnalyzer()\n",
    "\n",
    "    # can't use sent_tokenize with lyrics... just split on newline\n",
    "    sentences = split_sentences(text)\n",
    "    total_ss = {\n",
    "        'negative': 0,\n",
    "        'positive': 0,\n",
    "        'neutral': 0,\n",
    "        'compound': 0\n",
    "    }\n",
    "\n",
    "    for sentence in sentences:\n",
    "        ss = sid.polarity_scores(sentence)\n",
    "        total_ss['negative'] = total_ss['negative'] + ss['neg']\n",
    "        total_ss['positive'] = total_ss['positive'] + ss['pos']\n",
    "        total_ss['neutral'] = total_ss['neutral'] + ss['neu']\n",
    "        total_ss['compound'] = total_ss['compound'] + ss['compound']\n",
    "        \n",
    "    for key in total_ss:\n",
    "        if len(sentences) > 0:\n",
    "            total_ss[key] = total_ss[key] / len(sentences)\n",
    "        \n",
    "    return total_ss\n",
    "\n",
    "all_sentiments = {}\n",
    "for song in songs:\n",
    "    sentiments = sentiment_for_song(song['lyrics'])\n",
    "\n",
    "    # add sentiment to song data\n",
    "    song['positive_sentiment'] = sentiments['positive']\n",
    "    song['negative_sentiment'] = sentiments['negative']\n",
    "    song['neutral_sentiment'] = sentiments['neutral']\n",
    "    \n",
    "    for key in sentiments:\n",
    "        if key not in all_sentiments:\n",
    "            all_sentiments[key] = 0\n",
    "            \n",
    "        all_sentiments[key] = all_sentiments[key] + sentiments[key]\n",
    "\n",
    "# normalize for number of songs\n",
    "\n",
    "for key in all_sentiments:\n",
    "    all_sentiments[key] = all_sentiments[key] / len(songs)\n",
    "\n",
    "print(all_sentiments)"
   ]
  },
  {
   "cell_type": "code",
   "execution_count": 10,
   "metadata": {
    "collapsed": false
   },
   "outputs": [
    {
     "data": {
      "text/plain": [
       "<matplotlib.text.Text at 0x7f8f1cc770f0>"
      ]
     },
     "execution_count": 10,
     "metadata": {},
     "output_type": "execute_result"
    },
    {
     "name": "stderr",
     "output_type": "stream",
     "text": [
      "/software/miniconda3/lib/python3.5/site-packages/matplotlib/font_manager.py:1297: UserWarning: findfont: Font family ['sans-serif'] not found. Falling back to DejaVu Sans\n",
      "  (prop.get_family(), self.defaultFamily[fontext]))\n"
     ]
    },
    {
     "data": {
      "image/png": "[encoded data removed]",
      "text/plain": [
       "<matplotlib.figure.Figure at 0x7f8f1cbfc9e8>"
      ]
     },
     "metadata": {},
     "output_type": "display_data"
    }
   ],
   "source": [
    "all_sentiments.pop('compound', 0)\n",
    "df = pd.DataFrame.from_dict(all_sentiments, orient='index')\n",
    "sent_plot = df.nlargest(10, 0).plot(kind='bar', title='Sentiment Distribution', legend=False)\n",
    "sent_plot.set_xlabel(\"Sentiment\")\n",
    "sent_plot.set_ylabel(\"Distribution\")"
   ]
  },
  {
   "cell_type": "markdown",
   "metadata": {},
   "source": [
    "# How repititive?\n",
    "\n",
    "Check how repititive a song is by looking at the number of occurences each phrase or sentence has. A lot of songs are repititive due to the nature of a chorus etc.. however some might be super repititve."
   ]
  },
  {
   "cell_type": "code",
   "execution_count": 11,
   "metadata": {
    "collapsed": false
   },
   "outputs": [
    {
     "data": {
      "text/plain": [
       "<matplotlib.text.Text at 0x7f8f1abc1c88>"
      ]
     },
     "execution_count": 11,
     "metadata": {},
     "output_type": "execute_result"
    },
    {
     "name": "stderr",
     "output_type": "stream",
     "text": [
      "/software/miniconda3/lib/python3.5/site-packages/matplotlib/font_manager.py:1297: UserWarning: findfont: Font family ['sans-serif'] not found. Falling back to DejaVu Sans\n",
      "  (prop.get_family(), self.defaultFamily[fontext]))\n"
     ]
    },
    {
     "data": {
      "image/png": "[encoded data removed]",
      "text/plain": [
       "<matplotlib.figure.Figure at 0x7f8f1ccdae10>"
      ]
     },
     "metadata": {},
     "output_type": "display_data"
    }
   ],
   "source": [
    "def song_repetiveness(lyrics, rate=2):\n",
    "    # split song on sentence and find unique sentences\n",
    "    sentences = split_sentences(lyrics)\n",
    "    unique_sentences = set(sentences)\n",
    "    \n",
    "    total_sentences = len(sentences)\n",
    "    total_unique_sentences = len(unique_sentences)\n",
    "    \n",
    "    # collect frequency of unique sentences and calculate reptetiveness\n",
    "    repetitive_rate = 0\n",
    "    frequency = 0\n",
    "    for usentence in unique_sentences:\n",
    "        for sentence in sentences:\n",
    "            if usentence == sentence:\n",
    "                frequency = frequency + 1\n",
    "\n",
    "        # only calc. reptitiveness rate if frequency rate cutoff is met\n",
    "        if frequency >= rate:\n",
    "            repetitive_rate = repetitive_rate + (frequency / total_sentences)\n",
    "            \n",
    "        frequency = 0\n",
    "        \n",
    "    return repetitive_rate\n",
    "\n",
    "for song in songs:\n",
    "    song['repetitiveness'] = song_repetiveness(song['lyrics'], rate=2)\n",
    "    \n",
    "songs_df = pd.DataFrame.from_dict(songs)\n",
    "# plot = songs_df.sort_values('repetitiveness').plot(y='repetitiveness', kind='box', title='Song Repetitiveness\\n%s' % (songs[0]['artist']), stacked=True)\n",
    "sns.boxplot(songs_df.repetitiveness)\n",
    "\n",
    "sns.plt.title('Song Repetitiveness\\n%s' % (songs[0]['artist']))"
   ]
  },
  {
   "cell_type": "code",
   "execution_count": 12,
   "metadata": {
    "collapsed": false
   },
   "outputs": [
    {
     "data": {
      "text/html": [
       "<div>\n",
       "<table border=\"1\" class=\"dataframe\">\n",
       "  <thead>\n",
       "    <tr style=\"text-align: right;\">\n",
       "      <th></th>\n",
       "      <th>album</th>\n",
       "      <th>artist</th>\n",
       "      <th>lyrics</th>\n",
       "      <th>lyrics_file</th>\n",
       "      <th>lyrics_file_path</th>\n",
       "      <th>lyrics_url</th>\n",
       "      <th>negative_sentiment</th>\n",
       "      <th>neutral_sentiment</th>\n",
       "      <th>positive_sentiment</th>\n",
       "      <th>repetitiveness</th>\n",
       "      <th>title</th>\n",
       "      <th>word_tokens</th>\n",
       "    </tr>\n",
       "  </thead>\n",
       "  <tbody>\n",
       "    <tr>\n",
       "      <th>279</th>\n",
       "      <td></td>\n",
       "      <td>Eminem</td>\n",
       "      <td>\\n\\n\\nI know thereâs something in the wake o...</td>\n",
       "      <td>eminem-listen-to-your-heart.txt</td>\n",
       "      <td>/media/sf_D_DRIVE/jupyter/tyler/single_artist_...</td>\n",
       "      <td>http://www.azlyrics.com/lyrics/eminem/listento...</td>\n",
       "      <td>0.101436</td>\n",
       "      <td>0.836400</td>\n",
       "      <td>0.062164</td>\n",
       "      <td>0.0</td>\n",
       "      <td>Listen To Your Heart</td>\n",
       "      <td>[thereâ, wake, smile, notion, look, eye, yea...</td>\n",
       "    </tr>\n",
       "    <tr>\n",
       "      <th>298</th>\n",
       "      <td></td>\n",
       "      <td>Eminem</td>\n",
       "      <td>\\n\\nPsst... hey, listen! \\nLalalalala! I love ...</td>\n",
       "      <td>eminem-stimulate.txt</td>\n",
       "      <td>/media/sf_D_DRIVE/jupyter/tyler/single_artist_...</td>\n",
       "      <td>http://www.azlyrics.com/lyrics/eminem/stimulat...</td>\n",
       "      <td>0.093475</td>\n",
       "      <td>0.788066</td>\n",
       "      <td>0.118475</td>\n",
       "      <td>0.0</td>\n",
       "      <td>Stimulate</td>\n",
       "      <td>[psst, hey, listen, lalalalala, love, job, who...</td>\n",
       "    </tr>\n",
       "    <tr>\n",
       "      <th>300</th>\n",
       "      <td></td>\n",
       "      <td>Eminem</td>\n",
       "      <td>\\n\\nLet's take them back to the future (bars)\\...</td>\n",
       "      <td>eminem-sway-in-the-morning-freestyle.txt</td>\n",
       "      <td>/media/sf_D_DRIVE/jupyter/tyler/single_artist_...</td>\n",
       "      <td>http://www.azlyrics.com/lyrics/eminem/swayinth...</td>\n",
       "      <td>0.129046</td>\n",
       "      <td>0.753771</td>\n",
       "      <td>0.117174</td>\n",
       "      <td>0.0</td>\n",
       "      <td>Sway In The Morning (Freestyle)</td>\n",
       "      <td>[futur, bar, bar, paul, rosenberg, frozen, tur...</td>\n",
       "    </tr>\n",
       "    <tr>\n",
       "      <th>118</th>\n",
       "      <td>Curtain Call</td>\n",
       "      <td>Eminem</td>\n",
       "      <td>\\n\\n\\n\\n\\nMeet Eddie, twenty-three years old.\\...</td>\n",
       "      <td>eminem-guilty-conscience.txt</td>\n",
       "      <td>/media/sf_D_DRIVE/jupyter/tyler/single_artist_...</td>\n",
       "      <td>http://www.azlyrics.com/lyrics/eminem/guiltyco...</td>\n",
       "      <td>0.154256</td>\n",
       "      <td>0.790269</td>\n",
       "      <td>0.055449</td>\n",
       "      <td>0.0</td>\n",
       "      <td>Guilty Conscience</td>\n",
       "      <td>[meet, eddi, twentythre, fed, life, decid, rob...</td>\n",
       "    </tr>\n",
       "    <tr>\n",
       "      <th>117</th>\n",
       "      <td>Curtain Call</td>\n",
       "      <td>Eminem</td>\n",
       "      <td>\\n\\nYeah\\nI know sometimes things may not alwa...</td>\n",
       "      <td>eminem-mockingbird.txt</td>\n",
       "      <td>/media/sf_D_DRIVE/jupyter/tyler/single_artist_...</td>\n",
       "      <td>http://www.azlyrics.com/lyrics/eminem/mockingb...</td>\n",
       "      <td>0.082750</td>\n",
       "      <td>0.827804</td>\n",
       "      <td>0.089435</td>\n",
       "      <td>0.0</td>\n",
       "      <td>Mockingbird</td>\n",
       "      <td>[yeah, sometim, sens, hey, daddi, tell, straig...</td>\n",
       "    </tr>\n",
       "  </tbody>\n",
       "</table>\n",
       "</div>"
      ],
      "text/plain": [
       "            album  artist                                             lyrics  \\\n",
       "279                Eminem  \\n\\n\\nI know thereâs something in the wake o...   \n",
       "298                Eminem  \\n\\nPsst... hey, listen! \\nLalalalala! I love ...   \n",
       "300                Eminem  \\n\\nLet's take them back to the future (bars)\\...   \n",
       "118  Curtain Call  Eminem  \\n\\n\\n\\n\\nMeet Eddie, twenty-three years old.\\...   \n",
       "117  Curtain Call  Eminem  \\n\\nYeah\\nI know sometimes things may not alwa...   \n",
       "\n",
       "                                  lyrics_file  \\\n",
       "279           eminem-listen-to-your-heart.txt   \n",
       "298                      eminem-stimulate.txt   \n",
       "300  eminem-sway-in-the-morning-freestyle.txt   \n",
       "118              eminem-guilty-conscience.txt   \n",
       "117                    eminem-mockingbird.txt   \n",
       "\n",
       "                                      lyrics_file_path  \\\n",
       "279  /media/sf_D_DRIVE/jupyter/tyler/single_artist_...   \n",
       "298  /media/sf_D_DRIVE/jupyter/tyler/single_artist_...   \n",
       "300  /media/sf_D_DRIVE/jupyter/tyler/single_artist_...   \n",
       "118  /media/sf_D_DRIVE/jupyter/tyler/single_artist_...   \n",
       "117  /media/sf_D_DRIVE/jupyter/tyler/single_artist_...   \n",
       "\n",
       "                                            lyrics_url  negative_sentiment  \\\n",
       "279  http://www.azlyrics.com/lyrics/eminem/listento...            0.101436   \n",
       "298  http://www.azlyrics.com/lyrics/eminem/stimulat...            0.093475   \n",
       "300  http://www.azlyrics.com/lyrics/eminem/swayinth...            0.129046   \n",
       "118  http://www.azlyrics.com/lyrics/eminem/guiltyco...            0.154256   \n",
       "117  http://www.azlyrics.com/lyrics/eminem/mockingb...            0.082750   \n",
       "\n",
       "     neutral_sentiment  positive_sentiment  repetitiveness  \\\n",
       "279           0.836400            0.062164             0.0   \n",
       "298           0.788066            0.118475             0.0   \n",
       "300           0.753771            0.117174             0.0   \n",
       "118           0.790269            0.055449             0.0   \n",
       "117           0.827804            0.089435             0.0   \n",
       "\n",
       "                               title  \\\n",
       "279             Listen To Your Heart   \n",
       "298                        Stimulate   \n",
       "300  Sway In The Morning (Freestyle)   \n",
       "118                Guilty Conscience   \n",
       "117                      Mockingbird   \n",
       "\n",
       "                                           word_tokens  \n",
       "279  [thereâ, wake, smile, notion, look, eye, yea...  \n",
       "298  [psst, hey, listen, lalalalala, love, job, who...  \n",
       "300  [futur, bar, bar, paul, rosenberg, frozen, tur...  \n",
       "118  [meet, eddi, twentythre, fed, life, decid, rob...  \n",
       "117  [yeah, sometim, sens, hey, daddi, tell, straig...  "
      ]
     },
     "execution_count": 12,
     "metadata": {},
     "output_type": "execute_result"
    }
   ],
   "source": [
    "songs_df.sort_values('repetitiveness').head()"
   ]
  },
  {
   "cell_type": "markdown",
   "metadata": {},
   "source": [
    "# Correlations..."
   ]
  },
  {
   "cell_type": "code",
   "execution_count": 13,
   "metadata": {
    "collapsed": false
   },
   "outputs": [
    {
     "data": {
      "text/html": [
       "<div>\n",
       "<table border=\"1\" class=\"dataframe\">\n",
       "  <thead>\n",
       "    <tr style=\"text-align: right;\">\n",
       "      <th></th>\n",
       "      <th>negative_sentiment</th>\n",
       "      <th>neutral_sentiment</th>\n",
       "      <th>positive_sentiment</th>\n",
       "      <th>repetitiveness</th>\n",
       "    </tr>\n",
       "  </thead>\n",
       "  <tbody>\n",
       "    <tr>\n",
       "      <th>count</th>\n",
       "      <td>314.000000</td>\n",
       "      <td>314.000000</td>\n",
       "      <td>314.000000</td>\n",
       "      <td>314.000000</td>\n",
       "    </tr>\n",
       "    <tr>\n",
       "      <th>mean</th>\n",
       "      <td>0.118691</td>\n",
       "      <td>0.793213</td>\n",
       "      <td>0.081698</td>\n",
       "      <td>0.115568</td>\n",
       "    </tr>\n",
       "    <tr>\n",
       "      <th>std</th>\n",
       "      <td>0.045956</td>\n",
       "      <td>0.080922</td>\n",
       "      <td>0.029109</td>\n",
       "      <td>0.128343</td>\n",
       "    </tr>\n",
       "    <tr>\n",
       "      <th>min</th>\n",
       "      <td>0.000000</td>\n",
       "      <td>0.000000</td>\n",
       "      <td>0.000000</td>\n",
       "      <td>0.000000</td>\n",
       "    </tr>\n",
       "    <tr>\n",
       "      <th>25%</th>\n",
       "      <td>0.090651</td>\n",
       "      <td>0.769314</td>\n",
       "      <td>0.063336</td>\n",
       "      <td>0.000000</td>\n",
       "    </tr>\n",
       "    <tr>\n",
       "      <th>50%</th>\n",
       "      <td>0.114783</td>\n",
       "      <td>0.802197</td>\n",
       "      <td>0.077259</td>\n",
       "      <td>0.059289</td>\n",
       "    </tr>\n",
       "    <tr>\n",
       "      <th>75%</th>\n",
       "      <td>0.148983</td>\n",
       "      <td>0.827018</td>\n",
       "      <td>0.096768</td>\n",
       "      <td>0.211039</td>\n",
       "    </tr>\n",
       "    <tr>\n",
       "      <th>max</th>\n",
       "      <td>0.308667</td>\n",
       "      <td>1.000000</td>\n",
       "      <td>0.171405</td>\n",
       "      <td>0.566038</td>\n",
       "    </tr>\n",
       "  </tbody>\n",
       "</table>\n",
       "</div>"
      ],
      "text/plain": [
       "       negative_sentiment  neutral_sentiment  positive_sentiment  \\\n",
       "count          314.000000         314.000000          314.000000   \n",
       "mean             0.118691           0.793213            0.081698   \n",
       "std              0.045956           0.080922            0.029109   \n",
       "min              0.000000           0.000000            0.000000   \n",
       "25%              0.090651           0.769314            0.063336   \n",
       "50%              0.114783           0.802197            0.077259   \n",
       "75%              0.148983           0.827018            0.096768   \n",
       "max              0.308667           1.000000            0.171405   \n",
       "\n",
       "       repetitiveness  \n",
       "count      314.000000  \n",
       "mean         0.115568  \n",
       "std          0.128343  \n",
       "min          0.000000  \n",
       "25%          0.000000  \n",
       "50%          0.059289  \n",
       "75%          0.211039  \n",
       "max          0.566038  "
      ]
     },
     "execution_count": 13,
     "metadata": {},
     "output_type": "execute_result"
    }
   ],
   "source": [
    "songs_df.describe()"
   ]
  },
  {
   "cell_type": "markdown",
   "metadata": {},
   "source": [
    "# TFIDF SKLEARN"
   ]
  },
  {
   "cell_type": "code",
   "execution_count": 14,
   "metadata": {
    "collapsed": false
   },
   "outputs": [
    {
     "name": "stdout",
     "output_type": "stream",
     "text": [
      "infinite             0.19902514365172327\n",
      "tempted              0.17143295251562032\n",
      "murderin instruments 0.1548611746318779\n",
      "sentence murderin    0.1548611746318779\n",
      "attempt infinite     0.14449867354223772\n",
      "beat tempted         0.14449867354223772\n",
      "heard hell           0.14449867354223772\n",
      "hell sent            0.14449867354223772\n",
      "infinite heard       0.14449867354223772\n",
      "instruments          0.14449867354223772\n",
      "instruments trying   0.14449867354223772\n",
      "repent hear          0.14449867354223772\n",
      "sent serving         0.14449867354223772\n",
      "serving sentence     0.14449867354223772\n",
      "tempted attempt      0.14449867354223772\n",
      "trying repent        0.14449867354223772\n",
      "murderin             0.13714636201249625\n",
      "repent               0.13714636201249625\n",
      "hear beat            0.1314434661346521\n",
      "serving              0.12678386092285607\n"
     ]
    }
   ],
   "source": [
    "from sklearn.feature_extraction.text import TfidfVectorizer\n",
    "tf = TfidfVectorizer(analyzer='word', ngram_range=(1,2), min_df = 0, stop_words = corpus.stop_words())\n",
    "\n",
    "song_corpus = [song['lyrics'] for song in songs]\n",
    "\n",
    "tfidf_matrix = tf.fit_transform(song_corpus)\n",
    "feature_names = tf.get_feature_names()\n",
    "dense = tfidf_matrix.todense()\n",
    "song = dense[0].tolist()[0]\n",
    "phrase_scores = [pair for pair in zip(range(0, len(song)), song) if pair[1] > 0]\n",
    "sorted_phrase_scores = sorted(phrase_scores, key=lambda t: t[1] * -1)\n",
    "for phrase, score in [(feature_names[word_id], score) for (word_id, score) in sorted_phrase_scores][:20]:\n",
    "   print('{0: <20} {1}'.format(phrase, score))"
   ]
  },
  {
   "cell_type": "markdown",
   "metadata": {},
   "source": [
    "# Topic modelling..."
   ]
  },
  {
   "cell_type": "code",
   "execution_count": 15,
   "metadata": {
    "collapsed": false,
    "scrolled": true
   },
   "outputs": [
    {
     "name": "stdout",
     "output_type": "stream",
     "text": [
      "Topic 0:\n",
      "\n",
      "don cause shit fuck re\n",
      "Topic 1:\n",
      "\n",
      "name name name huh hi yeah yeah\n",
      "Topic 2:\n",
      "\n",
      "paul incest incest rape shit guys album gotta\n",
      "Topic 3:\n",
      "\n",
      "woah alright drug woah woah steve\n",
      "Topic 4:\n",
      "\n",
      "daddy mommy mourn rejoice gone carry rejoice\n",
      "Topic 0:\n",
      "\n",
      "don cause shit fuck re\n",
      "Topic 1:\n",
      "\n",
      "boom sock boom boom boom chuck chuck\n",
      "Topic 2:\n",
      "\n",
      "constantly fu entertain fu ked ked\n",
      "Topic 3:\n",
      "\n",
      "paul woah phenomenal fuckin rub\n",
      "Topic 4:\n",
      "\n",
      "cinderella eminem eminem cinderella cinderella check check look mirror\n"
     ]
    }
   ],
   "source": [
    "from sklearn.decomposition import NMF, LatentDirichletAllocation\n",
    "\n",
    "def display_topics(model, feature_names, no_top_words):\n",
    "    for topic_idx, topic in enumerate(model.components_):\n",
    "        print(\"Topic %d:\" % (topic_idx))\n",
    "        print()\n",
    "        print(\" \".join([feature_names[i]\n",
    "                        for i in topic.argsort()[:-no_top_words - 1:-1]]))\n",
    "\n",
    "no_topics = 5\n",
    "\n",
    "# Run NMF\n",
    "nmf = NMF(n_components=no_topics, random_state=1, alpha=.1, l1_ratio=.5, init='nndsvd').fit(tfidf_matrix)\n",
    "\n",
    "# Run LDA\n",
    "lda = LatentDirichletAllocation(n_topics=no_topics, max_iter=20, learning_method='online', learning_offset=50.,random_state=0).fit(tfidf_matrix)\n",
    "\n",
    "no_top_words = 5\n",
    "display_topics(nmf, feature_names, no_top_words)\n",
    "display_topics(lda, feature_names, no_top_words)"
   ]
  },
  {
   "cell_type": "code",
   "execution_count": 57,
   "metadata": {
    "collapsed": false
   },
   "outputs": [
    {
     "data": {
      "text/plain": [
       "                           album                    \n",
       "repetitiveness      count                               86.000000\n",
       "                           Curtain Call                 19.000000\n",
       "                           Eminem Presents The Re-Up     9.000000\n",
       "                           Encore                       23.000000\n",
       "                           Infinite                     11.000000\n",
       "                           Recovery                     19.000000\n",
       "                           Relapse                      22.000000\n",
       "                           Relapse: Refill               7.000000\n",
       "                           Shady XV                     13.000000\n",
       "                           Slim Shady EP                 7.000000\n",
       "                           Slim Shady LP                20.000000\n",
       "                           Straight From The Lab         7.000000\n",
       "                           Straight From The Vault      11.000000\n",
       "                           The Eminem Show              20.000000\n",
       "                           The Marshall Mathers LP      18.000000\n",
       "                           The Marshall Mathers LP 2    22.000000\n",
       "                    sum                                  9.131783\n",
       "                           Curtain Call                  2.944370\n",
       "                           Eminem Presents The Re-Up     1.059440\n",
       "                           Encore                        1.982358\n",
       "                           Infinite                      2.408106\n",
       "                           Recovery                      2.850156\n",
       "                           Relapse                       3.609855\n",
       "                           Relapse: Refill               1.075825\n",
       "                           Shady XV                      1.546106\n",
       "                           Slim Shady EP                 0.794112\n",
       "                           Slim Shady LP                 1.495753\n",
       "                           Straight From The Lab         1.257879\n",
       "                           Straight From The Vault       2.644186\n",
       "                           The Eminem Show               1.369016\n",
       "                                                          ...    \n",
       "positive_sentiment  count  Eminem Presents The Re-Up     9.000000\n",
       "                           Encore                       23.000000\n",
       "                           Infinite                     11.000000\n",
       "                           Recovery                     19.000000\n",
       "                           Relapse                      22.000000\n",
       "                           Relapse: Refill               7.000000\n",
       "                           Shady XV                     13.000000\n",
       "                           Slim Shady EP                 7.000000\n",
       "                           Slim Shady LP                20.000000\n",
       "                           Straight From The Lab         7.000000\n",
       "                           Straight From The Vault      11.000000\n",
       "                           The Eminem Show              20.000000\n",
       "                           The Marshall Mathers LP      18.000000\n",
       "                           The Marshall Mathers LP 2    22.000000\n",
       "                    sum                                  6.749095\n",
       "                           Curtain Call                  1.548353\n",
       "                           Eminem Presents The Re-Up     0.768356\n",
       "                           Encore                        1.764106\n",
       "                           Infinite                      1.053089\n",
       "                           Recovery                      1.829634\n",
       "                           Relapse                       1.946517\n",
       "                           Relapse: Refill               0.583640\n",
       "                           Shady XV                      1.086234\n",
       "                           Slim Shady EP                 0.481126\n",
       "                           Slim Shady LP                 1.429703\n",
       "                           Straight From The Lab         0.496330\n",
       "                           Straight From The Vault       1.057918\n",
       "                           The Eminem Show               1.653584\n",
       "                           The Marshall Mathers LP       1.254391\n",
       "                           The Marshall Mathers LP 2     1.951027\n",
       "dtype: float64"
      ]
     },
     "execution_count": 57,
     "metadata": {},
     "output_type": "execute_result"
    }
   ],
   "source": [
    "songs_df.groupby('album')['repetitiveness', 'negative_sentiment', 'positive_sentiment'].agg(['count', 'sum']).unstack()"
   ]
  },
  {
   "cell_type": "code",
   "execution_count": null,
   "metadata": {
    "collapsed": true
   },
   "outputs": [],
   "source": []
  },
  {
   "cell_type": "code",
   "execution_count": null,
   "metadata": {
    "collapsed": true
   },
   "outputs": [],
   "source": []
  }
 ],
 "metadata": {
  "kernelspec": {
   "display_name": "Python 3",
   "language": "python",
   "name": "python3"
  },
  "language_info": {
   "codemirror_mode": {
    "name": "ipython",
    "version": 3
   },
   "file_extension": ".py",
   "mimetype": "text/x-python",
   "name": "python",
   "nbconvert_exporter": "python",
   "pygments_lexer": "ipython3",
   "version": "3.5.2"
  }
 },
 "nbformat": 4,
 "nbformat_minor": 2
}
