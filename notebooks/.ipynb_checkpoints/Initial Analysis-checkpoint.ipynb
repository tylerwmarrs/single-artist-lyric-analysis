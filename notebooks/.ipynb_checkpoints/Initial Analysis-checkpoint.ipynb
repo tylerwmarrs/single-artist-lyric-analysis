{
 "cells": [
  {
   "cell_type": "code",
   "execution_count": 30,
   "metadata": {
    "collapsed": true
   },
   "outputs": [],
   "source": [
    "%matplotlib inline"
   ]
  },
  {
   "cell_type": "code",
   "execution_count": 31,
   "metadata": {
    "collapsed": false
   },
   "outputs": [],
   "source": [
    "import os\n",
    "import sys\n",
    "\n",
    "project_dir = os.path.split(os.getcwd())[0]\n",
    "\n",
    "if project_dir not in sys.path:\n",
    "   sys.path.append(project_dir)\n",
    "\n",
    "from lyricanalysis import corpus"
   ]
  },
  {
   "cell_type": "markdown",
   "metadata": {},
   "source": [
    "# Load up all of the songs for given artist"
   ]
  },
  {
   "cell_type": "code",
   "execution_count": 32,
   "metadata": {
    "collapsed": false
   },
   "outputs": [],
   "source": [
    "artist = 'Twenty One Pilots'\n",
    "songs = corpus.songs_for_artist(artist)"
   ]
  },
  {
   "cell_type": "markdown",
   "metadata": {},
   "source": [
    "# Clean the lyrics"
   ]
  },
  {
   "cell_type": "code",
   "execution_count": 33,
   "metadata": {
    "collapsed": false
   },
   "outputs": [],
   "source": [
    "import re\n",
    "\n",
    "tagged = re.compile('\\[.*\\]')\n",
    "produced = re.compile('[p|P]roduced.*')\n",
    "\n",
    "def clean_lyrics(lyrics):\n",
    "    new_lyrics = tagged.sub('', lyrics)\n",
    "    new_lyrics = produced.sub('', new_lyrics)\n",
    "    \n",
    "    return new_lyrics\n",
    "\n",
    "for song in songs:\n",
    "    song['lyrics'] = clean_lyrics(song['lyrics'])"
   ]
  },
  {
   "cell_type": "markdown",
   "metadata": {},
   "source": [
    "# Word tokenize, remove stop words and stem"
   ]
  },
  {
   "cell_type": "code",
   "execution_count": 34,
   "metadata": {
    "collapsed": false
   },
   "outputs": [],
   "source": [
    "import string\n",
    "import unicodedata\n",
    "import sys\n",
    "\n",
    "from nltk.corpus import stopwords\n",
    "from nltk.tokenize import word_tokenize\n",
    "from nltk import FreqDist\n",
    "from nltk.stem import PorterStemmer\n",
    "\n",
    "import pandas as pd\n",
    "import seaborn as sns\n",
    "\n",
    "punc_tbl = dict.fromkeys(i for i in range(sys.maxunicode)\n",
    "                      if unicodedata.category(chr(i)).startswith('P'))\n",
    "\n",
    "def stem_words(words):\n",
    "    stemmer = PorterStemmer()\n",
    "    return [stemmer.stem(w) for w in words]\n",
    "\n",
    "def remove_punctuation(text):\n",
    "    return text.translate(punc_tbl)\n",
    "\n",
    "def remove_stop_words(words):\n",
    "    \"\"\"Remove stop words from a list of words.\"\"\"\n",
    "    wl = []    \n",
    "    stop_words = corpus.stop_words()\n",
    "    for word in words:\n",
    "        word = word.lower()\n",
    "        if word not in stop_words:\n",
    "            wl.append(word)\n",
    "    \n",
    "    return wl\n",
    "\n",
    "normalized_word_frequencies = {}\n",
    "\n",
    "for song in songs:\n",
    "    song['word_tokens'] = stem_words(remove_stop_words(word_tokenize(remove_punctuation(song['lyrics']))))\n",
    "    song['word_count'] = len(song['word_tokens'])\n",
    "    dist = FreqDist(song['word_tokens'])\n",
    "\n",
    "    for w in dist:\n",
    "        if not w in normalized_word_frequencies:\n",
    "            normalized_word_frequencies[w] = 0\n",
    "\n",
    "        normalized_word_frequencies[w] = normalized_word_frequencies[w] + dist.freq(w)\n",
    "        \n",
    "for w, v in normalized_word_frequencies.items():\n",
    "    normalized_word_frequencies[w] = v / len(songs)"
   ]
  },
  {
   "cell_type": "code",
   "execution_count": 35,
   "metadata": {
    "collapsed": false
   },
   "outputs": [
    {
     "data": {
      "text/plain": [
       "<matplotlib.text.Text at 0x7f3c93980780>"
      ]
     },
     "execution_count": 35,
     "metadata": {},
     "output_type": "execute_result"
    },
    {
     "name": "stderr",
     "output_type": "stream",
     "text": [
      "/software/miniconda3/lib/python3.5/site-packages/matplotlib/font_manager.py:1297: UserWarning: findfont: Font family ['sans-serif'] not found. Falling back to DejaVu Sans\n",
      "  (prop.get_family(), self.defaultFamily[fontext]))\n"
     ]
    },
    {
     "data": {
      "image/png": "[encoded data removed]",
      "text/plain": [
       "<matplotlib.figure.Figure at 0x7f3c939d75c0>"
      ]
     },
     "metadata": {},
     "output_type": "display_data"
    }
   ],
   "source": [
    "df = pd.DataFrame.from_dict(normalized_word_frequencies, orient='index')\n",
    "word_freq = df.nlargest(25, 0).plot(kind='bar', title='Normalized Word Frequency\\n%s' % (artist), legend=False)\n",
    "word_freq.set_xlabel(\"Word\")\n",
    "word_freq.set_ylabel(\"Distribution\")"
   ]
  },
  {
   "cell_type": "markdown",
   "metadata": {},
   "source": [
    "# Stemmed and normalized swear word frequency"
   ]
  },
  {
   "cell_type": "code",
   "execution_count": 36,
   "metadata": {
    "collapsed": true
   },
   "outputs": [],
   "source": [
    "swear_words = set(stem_words(corpus.swear_words()))\n",
    "\n",
    "normalized_word_frequencies = {}\n",
    "\n",
    "for song in songs:\n",
    "    song['word_tokens'] = stem_words(remove_stop_words(word_tokenize(remove_punctuation(song['lyrics']))))\n",
    "    dist = FreqDist(song['word_tokens'])\n",
    "\n",
    "    for sw in swear_words:\n",
    "        if not sw in normalized_word_frequencies:\n",
    "            normalized_word_frequencies[sw] = 0\n",
    "\n",
    "        normalized_word_frequencies[sw] = normalized_word_frequencies[sw] + dist.freq(sw)\n",
    "        \n",
    "for w, v in normalized_word_frequencies.items():\n",
    "    normalized_word_frequencies[w] = v / len(songs)"
   ]
  },
  {
   "cell_type": "code",
   "execution_count": 41,
   "metadata": {
    "collapsed": false
   },
   "outputs": [
    {
     "data": {
      "text/plain": [
       "<matplotlib.text.Text at 0x7f3c93623320>"
      ]
     },
     "execution_count": 41,
     "metadata": {},
     "output_type": "execute_result"
    },
    {
     "name": "stderr",
     "output_type": "stream",
     "text": [
      "/software/miniconda3/lib/python3.5/site-packages/matplotlib/font_manager.py:1297: UserWarning: findfont: Font family ['sans-serif'] not found. Falling back to DejaVu Sans\n",
      "  (prop.get_family(), self.defaultFamily[fontext]))\n"
     ]
    },
    {
     "data": {
      "image/png": "[encoded data removed]",
      "text/plain": [
       "<matplotlib.figure.Figure at 0x7f3c9385dc88>"
      ]
     },
     "metadata": {},
     "output_type": "display_data"
    }
   ],
   "source": [
    "df = pd.DataFrame.from_dict(normalized_word_frequencies, orient='index')\n",
    "word_freq = df.nlargest(5, 0)[0:5].plot(kind='bar', title='Swear Word Frequency\\n%s' % (artist), legend=False)\n",
    "word_freq.set_xlabel(\"Word\")\n",
    "word_freq.set_ylabel(\"Distribution\")"
   ]
  },
  {
   "cell_type": "markdown",
   "metadata": {},
   "source": [
    "# Sentiment analysis with Vader"
   ]
  },
  {
   "cell_type": "code",
   "execution_count": 9,
   "metadata": {
    "collapsed": false
   },
   "outputs": [
    {
     "name": "stderr",
     "output_type": "stream",
     "text": [
      "/software/miniconda3/lib/python3.5/site-packages/nltk/twitter/__init__.py:20: UserWarning: The twython library has not been installed. Some functionality from the twitter package will not be available.\n",
      "  warnings.warn(\"The twython library has not been installed. \"\n"
     ]
    },
    {
     "name": "stdout",
     "output_type": "stream",
     "text": [
      "{'negative': 0.09068995201185456, 'positive': 0.09447191363894629, 'neutral': 0.8148361725926274, 'compound': 0.007591766137715901}\n"
     ]
    }
   ],
   "source": [
    "from nltk.sentiment.vader import SentimentIntensityAnalyzer\n",
    "from nltk.tokenize import sent_tokenize\n",
    "\n",
    "\n",
    "def split_sentences(text):\n",
    "    sentences = []\n",
    "    for sentence in text.split('\\n'):\n",
    "        sentence = sentence.strip()\n",
    "        \n",
    "        if sentence:\n",
    "            sentences.append(sentence)\n",
    "\n",
    "    return sentences\n",
    "\n",
    "\n",
    "def sentiment_for_song(text):\n",
    "    sid = SentimentIntensityAnalyzer()\n",
    "\n",
    "    # can't use sent_tokenize with lyrics... just split on newline\n",
    "    sentences = split_sentences(text)\n",
    "    total_ss = {\n",
    "        'negative': 0,\n",
    "        'positive': 0,\n",
    "        'neutral': 0,\n",
    "        'compound': 0\n",
    "    }\n",
    "\n",
    "    for sentence in sentences:\n",
    "        ss = sid.polarity_scores(sentence)\n",
    "        total_ss['negative'] = total_ss['negative'] + ss['neg']\n",
    "        total_ss['positive'] = total_ss['positive'] + ss['pos']\n",
    "        total_ss['neutral'] = total_ss['neutral'] + ss['neu']\n",
    "        total_ss['compound'] = total_ss['compound'] + ss['compound']\n",
    "        \n",
    "    for key in total_ss:\n",
    "        if len(sentences) > 0:\n",
    "            total_ss[key] = total_ss[key] / len(sentences)\n",
    "        \n",
    "    return total_ss\n",
    "\n",
    "all_sentiments = {}\n",
    "for song in songs:\n",
    "    sentiments = sentiment_for_song(song['lyrics'])\n",
    "\n",
    "    # add sentiment to song data\n",
    "    song['positive_sentiment'] = sentiments['positive']\n",
    "    song['negative_sentiment'] = sentiments['negative']\n",
    "    song['neutral_sentiment'] = sentiments['neutral']\n",
    "    \n",
    "    for key in sentiments:\n",
    "        if key not in all_sentiments:\n",
    "            all_sentiments[key] = 0\n",
    "            \n",
    "        all_sentiments[key] = all_sentiments[key] + sentiments[key]\n",
    "\n",
    "# normalize for number of songs\n",
    "\n",
    "for key in all_sentiments:\n",
    "    all_sentiments[key] = all_sentiments[key] / len(songs)\n",
    "\n",
    "print(all_sentiments)"
   ]
  },
  {
   "cell_type": "code",
   "execution_count": 10,
   "metadata": {
    "collapsed": false
   },
   "outputs": [
    {
     "name": "stderr",
     "output_type": "stream",
     "text": [
      "/software/miniconda3/lib/python3.5/site-packages/matplotlib/font_manager.py:1297: UserWarning: findfont: Font family ['sans-serif'] not found. Falling back to DejaVu Sans\n",
      "  (prop.get_family(), self.defaultFamily[fontext]))\n"
     ]
    },
    {
     "data": {
      "image/png": "[encoded data removed]",
      "text/plain": [
       "<matplotlib.figure.Figure at 0x7f3cac2a69e8>"
      ]
     },
     "metadata": {},
     "output_type": "display_data"
    }
   ],
   "source": [
    "all_sentiments.pop('compound', 0)\n",
    "df = pd.DataFrame.from_dict(all_sentiments, orient='index')\n",
    "sent_plot = df.plot(kind='bar', title='Sentiment Distribution\\n%s' % (artist), legend=False)\n",
    "sent_plot.set_xlabel(\"Sentiment\")\n",
    "sent_plot.set_ylabel(\"Distribution\")\n",
    "sent_df = df"
   ]
  },
  {
   "cell_type": "markdown",
   "metadata": {},
   "source": [
    "# How repetitive?\n",
    "\n",
    "Check how repetitive a song is by looking at the number of occurences each phrase or sentence has. A lot of songs are repetitive due to the nature of a chorus etc.. however some might be super repetitve."
   ]
  },
  {
   "cell_type": "code",
   "execution_count": 11,
   "metadata": {
    "collapsed": false
   },
   "outputs": [
    {
     "data": {
      "text/plain": [
       "<matplotlib.text.Text at 0x7f3cab59cc88>"
      ]
     },
     "execution_count": 11,
     "metadata": {},
     "output_type": "execute_result"
    },
    {
     "name": "stderr",
     "output_type": "stream",
     "text": [
      "/software/miniconda3/lib/python3.5/site-packages/matplotlib/font_manager.py:1297: UserWarning: findfont: Font family ['sans-serif'] not found. Falling back to DejaVu Sans\n",
      "  (prop.get_family(), self.defaultFamily[fontext]))\n"
     ]
    },
    {
     "data": {
      "image/png": "[encoded data removed]",
      "text/plain": [
       "<matplotlib.figure.Figure at 0x7f3cabcef7f0>"
      ]
     },
     "metadata": {},
     "output_type": "display_data"
    }
   ],
   "source": [
    "def song_repetiveness(lyrics, rate=2):\n",
    "    # split song on sentence and find unique sentences\n",
    "    sentences = split_sentences(lyrics)\n",
    "    unique_sentences = set(sentences)\n",
    "    \n",
    "    total_sentences = len(sentences)\n",
    "    total_unique_sentences = len(unique_sentences)\n",
    "    \n",
    "    # collect frequency of unique sentences and calculate reptetiveness\n",
    "    repetitive_rate = 0\n",
    "    frequency = 0\n",
    "    for usentence in unique_sentences:\n",
    "        for sentence in sentences:\n",
    "            if usentence == sentence:\n",
    "                frequency = frequency + 1\n",
    "\n",
    "        # only calc. reptetiveness rate if frequency rate cutoff is met\n",
    "        if frequency >= rate:\n",
    "            repetitive_rate = repetitive_rate + (frequency / total_sentences)\n",
    "            \n",
    "        frequency = 0\n",
    "        \n",
    "    return repetitive_rate\n",
    "\n",
    "for song in songs:\n",
    "    song['repetitiveness'] = song_repetiveness(song['lyrics'], rate=2)\n",
    "    \n",
    "songs_df = pd.DataFrame.from_dict(songs)\n",
    "# plot = songs_df.sort_values('repetitiveness').plot(y='repetitiveness', kind='box', title='Song Repetitiveness\\n%s' % (songs[0]['artist']), stacked=True)\n",
    "sns.boxplot(songs_df.repetitiveness)\n",
    "\n",
    "sns.plt.title('Song Repetitiveness\\n%s' % (songs[0]['artist'])) "
   ]
  },
  {
   "cell_type": "code",
   "execution_count": 12,
   "metadata": {
    "collapsed": false
   },
   "outputs": [
    {
     "data": {
      "text/html": [
       "<div>\n",
       "<table border=\"1\" class=\"dataframe\">\n",
       "  <thead>\n",
       "    <tr style=\"text-align: right;\">\n",
       "      <th></th>\n",
       "      <th>album</th>\n",
       "      <th>artist</th>\n",
       "      <th>lyrics</th>\n",
       "      <th>lyrics_file</th>\n",
       "      <th>lyrics_file_path</th>\n",
       "      <th>lyrics_url</th>\n",
       "      <th>negative_sentiment</th>\n",
       "      <th>neutral_sentiment</th>\n",
       "      <th>positive_sentiment</th>\n",
       "      <th>repetitiveness</th>\n",
       "      <th>title</th>\n",
       "      <th>word_count</th>\n",
       "      <th>word_tokens</th>\n",
       "    </tr>\n",
       "  </thead>\n",
       "  <tbody>\n",
       "    <tr>\n",
       "      <th>26</th>\n",
       "      <td>Regional At Best</td>\n",
       "      <td>TWENTY ONE PILOTS</td>\n",
       "      <td>\\n\\nWhere'd you go, huh?\\nThey all think I kno...</td>\n",
       "      <td>twenty-one-pilots-be-concerned.txt</td>\n",
       "      <td>/media/sf_D_DRIVE/jupyter/tyler/single_artist_...</td>\n",
       "      <td>http://www.azlyrics.com/lyrics/twentyonepilots...</td>\n",
       "      <td>0.101362</td>\n",
       "      <td>0.828511</td>\n",
       "      <td>0.070128</td>\n",
       "      <td>0.063830</td>\n",
       "      <td>Be Concerned</td>\n",
       "      <td>107</td>\n",
       "      <td>[where, huh, hard, motiv, devot, singl, inch, ...</td>\n",
       "    </tr>\n",
       "    <tr>\n",
       "      <th>21</th>\n",
       "      <td>Regional At Best</td>\n",
       "      <td>TWENTY ONE PILOTS</td>\n",
       "      <td>\\n\\nNobody thinks what I think,\\nNobody dreams...</td>\n",
       "      <td>twenty-one-pilots-kitchen-sink.txt</td>\n",
       "      <td>/media/sf_D_DRIVE/jupyter/tyler/single_artist_...</td>\n",
       "      <td>http://www.azlyrics.com/lyrics/twentyonepilots...</td>\n",
       "      <td>0.138405</td>\n",
       "      <td>0.745643</td>\n",
       "      <td>0.115952</td>\n",
       "      <td>0.119048</td>\n",
       "      <td>Kitchen Sink</td>\n",
       "      <td>114</td>\n",
       "      <td>[dream, blink, brink, blasphemi, own, shrink, ...</td>\n",
       "    </tr>\n",
       "    <tr>\n",
       "      <th>5</th>\n",
       "      <td>Twenty One Pilots</td>\n",
       "      <td>TWENTY ONE PILOTS</td>\n",
       "      <td>\\n\\nThere's miles of land in front of us\\nAnd ...</td>\n",
       "      <td>twenty-one-pilots-march-to-the-sea.txt</td>\n",
       "      <td>/media/sf_D_DRIVE/jupyter/tyler/single_artist_...</td>\n",
       "      <td>http://www.azlyrics.com/lyrics/twentyonepilots...</td>\n",
       "      <td>0.045511</td>\n",
       "      <td>0.943267</td>\n",
       "      <td>0.011222</td>\n",
       "      <td>0.155556</td>\n",
       "      <td>March To The Sea</td>\n",
       "      <td>103</td>\n",
       "      <td>[there, mile, land, front, die, step, die, bre...</td>\n",
       "    </tr>\n",
       "    <tr>\n",
       "      <th>29</th>\n",
       "      <td>Vessel</td>\n",
       "      <td>TWENTY ONE PILOTS</td>\n",
       "      <td>\\n\\nI'm taking over my body,\\nBack in control,...</td>\n",
       "      <td>twenty-one-pilots-holding-on-to-you.txt</td>\n",
       "      <td>/media/sf_D_DRIVE/jupyter/tyler/single_artist_...</td>\n",
       "      <td>http://www.azlyrics.com/lyrics/twentyonepilots...</td>\n",
       "      <td>0.069240</td>\n",
       "      <td>0.899600</td>\n",
       "      <td>0.031160</td>\n",
       "      <td>0.160000</td>\n",
       "      <td>Holding On To You</td>\n",
       "      <td>115</td>\n",
       "      <td>[take, bodi, control, shotti, bet, lot, lost, ...</td>\n",
       "    </tr>\n",
       "    <tr>\n",
       "      <th>15</th>\n",
       "      <td>Regional At Best</td>\n",
       "      <td>TWENTY ONE PILOTS</td>\n",
       "      <td>\\n\\nI'm taking over my body,\\nBack in control,...</td>\n",
       "      <td>twenty-one-pilots-holding-on-to-you.txt</td>\n",
       "      <td>/media/sf_D_DRIVE/jupyter/tyler/single_artist_...</td>\n",
       "      <td>http://www.azlyrics.com/lyrics/twentyonepilots...</td>\n",
       "      <td>0.069240</td>\n",
       "      <td>0.899600</td>\n",
       "      <td>0.031160</td>\n",
       "      <td>0.160000</td>\n",
       "      <td>Holding On To You</td>\n",
       "      <td>115</td>\n",
       "      <td>[take, bodi, control, shotti, bet, lot, lost, ...</td>\n",
       "    </tr>\n",
       "  </tbody>\n",
       "</table>\n",
       "</div>"
      ],
      "text/plain": [
       "                album             artist  \\\n",
       "26   Regional At Best  TWENTY ONE PILOTS   \n",
       "21   Regional At Best  TWENTY ONE PILOTS   \n",
       "5   Twenty One Pilots  TWENTY ONE PILOTS   \n",
       "29             Vessel  TWENTY ONE PILOTS   \n",
       "15   Regional At Best  TWENTY ONE PILOTS   \n",
       "\n",
       "                                               lyrics  \\\n",
       "26  \\n\\nWhere'd you go, huh?\\nThey all think I kno...   \n",
       "21  \\n\\nNobody thinks what I think,\\nNobody dreams...   \n",
       "5   \\n\\nThere's miles of land in front of us\\nAnd ...   \n",
       "29  \\n\\nI'm taking over my body,\\nBack in control,...   \n",
       "15  \\n\\nI'm taking over my body,\\nBack in control,...   \n",
       "\n",
       "                                lyrics_file  \\\n",
       "26       twenty-one-pilots-be-concerned.txt   \n",
       "21       twenty-one-pilots-kitchen-sink.txt   \n",
       "5    twenty-one-pilots-march-to-the-sea.txt   \n",
       "29  twenty-one-pilots-holding-on-to-you.txt   \n",
       "15  twenty-one-pilots-holding-on-to-you.txt   \n",
       "\n",
       "                                     lyrics_file_path  \\\n",
       "26  /media/sf_D_DRIVE/jupyter/tyler/single_artist_...   \n",
       "21  /media/sf_D_DRIVE/jupyter/tyler/single_artist_...   \n",
       "5   /media/sf_D_DRIVE/jupyter/tyler/single_artist_...   \n",
       "29  /media/sf_D_DRIVE/jupyter/tyler/single_artist_...   \n",
       "15  /media/sf_D_DRIVE/jupyter/tyler/single_artist_...   \n",
       "\n",
       "                                           lyrics_url  negative_sentiment  \\\n",
       "26  http://www.azlyrics.com/lyrics/twentyonepilots...            0.101362   \n",
       "21  http://www.azlyrics.com/lyrics/twentyonepilots...            0.138405   \n",
       "5   http://www.azlyrics.com/lyrics/twentyonepilots...            0.045511   \n",
       "29  http://www.azlyrics.com/lyrics/twentyonepilots...            0.069240   \n",
       "15  http://www.azlyrics.com/lyrics/twentyonepilots...            0.069240   \n",
       "\n",
       "    neutral_sentiment  positive_sentiment  repetitiveness              title  \\\n",
       "26           0.828511            0.070128        0.063830       Be Concerned   \n",
       "21           0.745643            0.115952        0.119048       Kitchen Sink   \n",
       "5            0.943267            0.011222        0.155556   March To The Sea   \n",
       "29           0.899600            0.031160        0.160000  Holding On To You   \n",
       "15           0.899600            0.031160        0.160000  Holding On To You   \n",
       "\n",
       "    word_count                                        word_tokens  \n",
       "26         107  [where, huh, hard, motiv, devot, singl, inch, ...  \n",
       "21         114  [dream, blink, brink, blasphemi, own, shrink, ...  \n",
       "5          103  [there, mile, land, front, die, step, die, bre...  \n",
       "29         115  [take, bodi, control, shotti, bet, lot, lost, ...  \n",
       "15         115  [take, bodi, control, shotti, bet, lot, lost, ...  "
      ]
     },
     "execution_count": 12,
     "metadata": {},
     "output_type": "execute_result"
    }
   ],
   "source": [
    "songs_df.sort_values('repetitiveness').head()"
   ]
  },
  {
   "cell_type": "markdown",
   "metadata": {},
   "source": [
    "# Correlations..."
   ]
  },
  {
   "cell_type": "code",
   "execution_count": 13,
   "metadata": {
    "collapsed": false
   },
   "outputs": [
    {
     "data": {
      "text/html": [
       "<div>\n",
       "<table border=\"1\" class=\"dataframe\">\n",
       "  <thead>\n",
       "    <tr style=\"text-align: right;\">\n",
       "      <th></th>\n",
       "      <th>negative_sentiment</th>\n",
       "      <th>neutral_sentiment</th>\n",
       "      <th>positive_sentiment</th>\n",
       "      <th>repetitiveness</th>\n",
       "      <th>word_count</th>\n",
       "    </tr>\n",
       "  </thead>\n",
       "  <tbody>\n",
       "    <tr>\n",
       "      <th>count</th>\n",
       "      <td>63.000000</td>\n",
       "      <td>63.000000</td>\n",
       "      <td>63.000000</td>\n",
       "      <td>63.000000</td>\n",
       "      <td>63.000000</td>\n",
       "    </tr>\n",
       "    <tr>\n",
       "      <th>mean</th>\n",
       "      <td>0.090690</td>\n",
       "      <td>0.814836</td>\n",
       "      <td>0.094472</td>\n",
       "      <td>0.524446</td>\n",
       "      <td>111.031746</td>\n",
       "    </tr>\n",
       "    <tr>\n",
       "      <th>std</th>\n",
       "      <td>0.050765</td>\n",
       "      <td>0.089371</td>\n",
       "      <td>0.068623</td>\n",
       "      <td>0.212027</td>\n",
       "      <td>41.744603</td>\n",
       "    </tr>\n",
       "    <tr>\n",
       "      <th>min</th>\n",
       "      <td>0.000000</td>\n",
       "      <td>0.497456</td>\n",
       "      <td>0.000000</td>\n",
       "      <td>0.063830</td>\n",
       "      <td>19.000000</td>\n",
       "    </tr>\n",
       "    <tr>\n",
       "      <th>25%</th>\n",
       "      <td>0.051502</td>\n",
       "      <td>0.772568</td>\n",
       "      <td>0.059800</td>\n",
       "      <td>0.402899</td>\n",
       "      <td>78.000000</td>\n",
       "    </tr>\n",
       "    <tr>\n",
       "      <th>50%</th>\n",
       "      <td>0.083375</td>\n",
       "      <td>0.829156</td>\n",
       "      <td>0.078426</td>\n",
       "      <td>0.526316</td>\n",
       "      <td>112.000000</td>\n",
       "    </tr>\n",
       "    <tr>\n",
       "      <th>75%</th>\n",
       "      <td>0.119803</td>\n",
       "      <td>0.870338</td>\n",
       "      <td>0.116164</td>\n",
       "      <td>0.659787</td>\n",
       "      <td>139.000000</td>\n",
       "    </tr>\n",
       "    <tr>\n",
       "      <th>max</th>\n",
       "      <td>0.216706</td>\n",
       "      <td>0.982000</td>\n",
       "      <td>0.374333</td>\n",
       "      <td>0.969697</td>\n",
       "      <td>191.000000</td>\n",
       "    </tr>\n",
       "  </tbody>\n",
       "</table>\n",
       "</div>"
      ],
      "text/plain": [
       "       negative_sentiment  neutral_sentiment  positive_sentiment  \\\n",
       "count           63.000000          63.000000           63.000000   \n",
       "mean             0.090690           0.814836            0.094472   \n",
       "std              0.050765           0.089371            0.068623   \n",
       "min              0.000000           0.497456            0.000000   \n",
       "25%              0.051502           0.772568            0.059800   \n",
       "50%              0.083375           0.829156            0.078426   \n",
       "75%              0.119803           0.870338            0.116164   \n",
       "max              0.216706           0.982000            0.374333   \n",
       "\n",
       "       repetitiveness  word_count  \n",
       "count       63.000000   63.000000  \n",
       "mean         0.524446  111.031746  \n",
       "std          0.212027   41.744603  \n",
       "min          0.063830   19.000000  \n",
       "25%          0.402899   78.000000  \n",
       "50%          0.526316  112.000000  \n",
       "75%          0.659787  139.000000  \n",
       "max          0.969697  191.000000  "
      ]
     },
     "execution_count": 13,
     "metadata": {},
     "output_type": "execute_result"
    }
   ],
   "source": [
    "songs_df.describe()"
   ]
  },
  {
   "cell_type": "markdown",
   "metadata": {},
   "source": [
    "# TFIDF SKLEARN"
   ]
  },
  {
   "cell_type": "code",
   "execution_count": 14,
   "metadata": {
    "collapsed": false
   },
   "outputs": [
    {
     "name": "stdout",
     "output_type": "stream",
     "text": [
      "reign                0.6059994104202604\n",
      "destroy reign        0.40399960694684023\n",
      "reign destroy        0.40399960694684023\n",
      "destroy              0.36731858776618065\n",
      "ahead                0.13466653564894673\n",
      "ahead look           0.06733326782447337\n",
      "ahead reign          0.06733326782447337\n",
      "am calling           0.06733326782447337\n",
      "am simply            0.06733326782447337\n",
      "calling lightning    0.06733326782447337\n",
      "dark hiding          0.06733326782447337\n",
      "day ahead            0.06733326782447337\n",
      "disrespect am        0.06733326782447337\n",
      "fire day             0.06733326782447337\n",
      "hiding ahead         0.06733326782447337\n",
      "liar                 0.06733326782447337\n",
      "liar set             0.06733326782447337\n",
      "lightning            0.06733326782447337\n",
      "lightning dark       0.06733326782447337\n",
      "look strike          0.06733326782447337\n"
     ]
    }
   ],
   "source": [
    "from sklearn.feature_extraction.text import TfidfVectorizer\n",
    "tf = TfidfVectorizer(analyzer='word', ngram_range=(1,2), min_df = 0, stop_words = corpus.stop_words())\n",
    "\n",
    "song_corpus = [song['lyrics'] for song in songs]\n",
    "\n",
    "tfidf_matrix = tf.fit_transform(song_corpus)\n",
    "feature_names = tf.get_feature_names()\n",
    "dense = tfidf_matrix.todense()\n",
    "song = dense[0].tolist()[0]\n",
    "phrase_scores = [pair for pair in zip(range(0, len(song)), song) if pair[1] > 0]\n",
    "sorted_phrase_scores = sorted(phrase_scores, key=lambda t: t[1] * -1)\n",
    "for phrase, score in [(feature_names[word_id], score) for (word_id, score) in sorted_phrase_scores][:20]:\n",
    "   print('{0: <20} {1}'.format(phrase, score))"
   ]
  },
  {
   "cell_type": "markdown",
   "metadata": {},
   "source": [
    "# Topic modelling..."
   ]
  },
  {
   "cell_type": "code",
   "execution_count": 15,
   "metadata": {
    "collapsed": false,
    "scrolled": true
   },
   "outputs": [
    {
     "name": "stdout",
     "output_type": "stream",
     "text": [
      "Topic 0:\n",
      "\n",
      "tell ll tell plans ll tell plans\n",
      "Topic 1:\n",
      "\n",
      "na na na hello hello hello silent trees\n",
      "Topic 2:\n",
      "\n",
      "hey hey hey trying trying trying trying sleep\n",
      "Topic 3:\n",
      "\n",
      "sit sit silence silence car radio sit\n",
      "Topic 4:\n",
      "\n",
      "play pretend pretend wish stressed re stressed\n",
      "Topic 0:\n",
      "\n",
      "na na na ll tell reign\n",
      "Topic 1:\n",
      "\n",
      "da hey hey hey trying trying trying\n",
      "Topic 2:\n",
      "\n",
      "bah re broken bah bah broken doo\n",
      "Topic 3:\n",
      "\n",
      "fall don heart won watch\n",
      "Topic 4:\n",
      "\n",
      "save re alive stay alive eh eh\n"
     ]
    }
   ],
   "source": [
    "from sklearn.decomposition import NMF, LatentDirichletAllocation\n",
    "\n",
    "def display_topics(model, feature_names, no_top_words):\n",
    "    for topic_idx, topic in enumerate(model.components_):\n",
    "        print(\"Topic %d:\" % (topic_idx))\n",
    "        print()\n",
    "        print(\" \".join([feature_names[i]\n",
    "                        for i in topic.argsort()[:-no_top_words - 1:-1]]))\n",
    "\n",
    "no_topics = 5\n",
    "\n",
    "# Run NMF\n",
    "nmf = NMF(n_components=no_topics, random_state=1, alpha=.1, l1_ratio=.5, init='nndsvd').fit(tfidf_matrix)\n",
    "\n",
    "# Run LDA\n",
    "lda = LatentDirichletAllocation(n_topics=no_topics, max_iter=20, learning_method='online', learning_offset=50.,random_state=0).fit(tfidf_matrix)\n",
    "\n",
    "no_top_words = 5\n",
    "display_topics(nmf, feature_names, no_top_words)\n",
    "display_topics(lda, feature_names, no_top_words)"
   ]
  },
  {
   "cell_type": "markdown",
   "metadata": {},
   "source": [
    "# Find most repetitive, positive and negative song"
   ]
  },
  {
   "cell_type": "code",
   "execution_count": 16,
   "metadata": {
    "collapsed": false
   },
   "outputs": [
    {
     "data": {
      "text/html": [
       "<div>\n",
       "<table border=\"1\" class=\"dataframe\">\n",
       "  <thead>\n",
       "    <tr style=\"text-align: right;\">\n",
       "      <th></th>\n",
       "      <th>album</th>\n",
       "      <th>title</th>\n",
       "      <th>repetitiveness</th>\n",
       "    </tr>\n",
       "  </thead>\n",
       "  <tbody>\n",
       "    <tr>\n",
       "      <th>25</th>\n",
       "      <td>Regional At Best</td>\n",
       "      <td>Trees</td>\n",
       "      <td>0.969697</td>\n",
       "    </tr>\n",
       "    <tr>\n",
       "      <th>38</th>\n",
       "      <td>Vessel</td>\n",
       "      <td>Trees</td>\n",
       "      <td>0.969697</td>\n",
       "    </tr>\n",
       "  </tbody>\n",
       "</table>\n",
       "</div>"
      ],
      "text/plain": [
       "               album  title  repetitiveness\n",
       "25  Regional At Best  Trees        0.969697\n",
       "38            Vessel  Trees        0.969697"
      ]
     },
     "execution_count": 16,
     "metadata": {},
     "output_type": "execute_result"
    }
   ],
   "source": [
    "songs_df[['album', 'title', 'repetitiveness']].nlargest(1, 'repetitiveness')"
   ]
  },
  {
   "cell_type": "code",
   "execution_count": 17,
   "metadata": {
    "collapsed": false
   },
   "outputs": [
    {
     "data": {
      "text/html": [
       "<div>\n",
       "<table border=\"1\" class=\"dataframe\">\n",
       "  <thead>\n",
       "    <tr style=\"text-align: right;\">\n",
       "      <th></th>\n",
       "      <th>album</th>\n",
       "      <th>title</th>\n",
       "      <th>positive_sentiment</th>\n",
       "    </tr>\n",
       "  </thead>\n",
       "  <tbody>\n",
       "    <tr>\n",
       "      <th>56</th>\n",
       "      <td></td>\n",
       "      <td>Can't Help Falling In Love</td>\n",
       "      <td>0.374333</td>\n",
       "    </tr>\n",
       "  </tbody>\n",
       "</table>\n",
       "</div>"
      ],
      "text/plain": [
       "   album                       title  positive_sentiment\n",
       "56        Can't Help Falling In Love            0.374333"
      ]
     },
     "execution_count": 17,
     "metadata": {},
     "output_type": "execute_result"
    }
   ],
   "source": [
    "songs_df[['album', 'title', 'positive_sentiment']].nlargest(1, 'positive_sentiment')"
   ]
  },
  {
   "cell_type": "code",
   "execution_count": 18,
   "metadata": {
    "collapsed": false
   },
   "outputs": [
    {
     "data": {
      "text/html": [
       "<div>\n",
       "<table border=\"1\" class=\"dataframe\">\n",
       "  <thead>\n",
       "    <tr style=\"text-align: right;\">\n",
       "      <th></th>\n",
       "      <th>album</th>\n",
       "      <th>title</th>\n",
       "      <th>negative_sentiment</th>\n",
       "    </tr>\n",
       "  </thead>\n",
       "  <tbody>\n",
       "    <tr>\n",
       "      <th>47</th>\n",
       "      <td>Blurryface</td>\n",
       "      <td>Doubt</td>\n",
       "      <td>0.216706</td>\n",
       "    </tr>\n",
       "  </tbody>\n",
       "</table>\n",
       "</div>"
      ],
      "text/plain": [
       "         album  title  negative_sentiment\n",
       "47  Blurryface  Doubt            0.216706"
      ]
     },
     "execution_count": 18,
     "metadata": {},
     "output_type": "execute_result"
    }
   ],
   "source": [
    "songs_df[['album', 'title', 'negative_sentiment']].nlargest(1, 'negative_sentiment')"
   ]
  },
  {
   "cell_type": "markdown",
   "metadata": {},
   "source": [
    "# Find longest and shortest song"
   ]
  },
  {
   "cell_type": "code",
   "execution_count": 19,
   "metadata": {
    "collapsed": false
   },
   "outputs": [
    {
     "data": {
      "text/html": [
       "<div>\n",
       "<table border=\"1\" class=\"dataframe\">\n",
       "  <thead>\n",
       "    <tr style=\"text-align: right;\">\n",
       "      <th></th>\n",
       "      <th>album</th>\n",
       "      <th>title</th>\n",
       "      <th>word_count</th>\n",
       "    </tr>\n",
       "  </thead>\n",
       "  <tbody>\n",
       "    <tr>\n",
       "      <th>16</th>\n",
       "      <td>Regional At Best</td>\n",
       "      <td>Ode To Sleep</td>\n",
       "      <td>191</td>\n",
       "    </tr>\n",
       "    <tr>\n",
       "      <th>28</th>\n",
       "      <td>Vessel</td>\n",
       "      <td>Ode To Sleep</td>\n",
       "      <td>191</td>\n",
       "    </tr>\n",
       "  </tbody>\n",
       "</table>\n",
       "</div>"
      ],
      "text/plain": [
       "               album         title  word_count\n",
       "16  Regional At Best  Ode To Sleep         191\n",
       "28            Vessel  Ode To Sleep         191"
      ]
     },
     "execution_count": 19,
     "metadata": {},
     "output_type": "execute_result"
    }
   ],
   "source": [
    "songs_df[['album', 'title', 'word_count']].nlargest(1, 'word_count')"
   ]
  },
  {
   "cell_type": "code",
   "execution_count": 20,
   "metadata": {
    "collapsed": false
   },
   "outputs": [
    {
     "data": {
      "text/html": [
       "<div>\n",
       "<table border=\"1\" class=\"dataframe\">\n",
       "  <thead>\n",
       "    <tr style=\"text-align: right;\">\n",
       "      <th></th>\n",
       "      <th>album</th>\n",
       "      <th>title</th>\n",
       "      <th>word_count</th>\n",
       "    </tr>\n",
       "  </thead>\n",
       "  <tbody>\n",
       "    <tr>\n",
       "      <th>60</th>\n",
       "      <td></td>\n",
       "      <td>Mexico City Song</td>\n",
       "      <td>19</td>\n",
       "    </tr>\n",
       "  </tbody>\n",
       "</table>\n",
       "</div>"
      ],
      "text/plain": [
       "   album             title  word_count\n",
       "60        Mexico City Song          19"
      ]
     },
     "execution_count": 20,
     "metadata": {},
     "output_type": "execute_result"
    }
   ],
   "source": [
    "songs_df[['album', 'title', 'word_count']].nsmallest(1, 'word_count')"
   ]
  },
  {
   "cell_type": "code",
   "execution_count": 21,
   "metadata": {
    "collapsed": false
   },
   "outputs": [
    {
     "data": {
      "text/plain": [
       "<matplotlib.legend.Legend at 0x7f3cab9a38d0>"
      ]
     },
     "execution_count": 21,
     "metadata": {},
     "output_type": "execute_result"
    },
    {
     "name": "stderr",
     "output_type": "stream",
     "text": [
      "/software/miniconda3/lib/python3.5/site-packages/matplotlib/font_manager.py:1297: UserWarning: findfont: Font family ['sans-serif'] not found. Falling back to DejaVu Sans\n",
      "  (prop.get_family(), self.defaultFamily[fontext]))\n"
     ]
    },
    {
     "data": {
      "image/png": "[encoded data removed]",
      "text/plain": [
       "<matplotlib.figure.Figure at 0x7f3cab9a3748>"
      ]
     },
     "metadata": {},
     "output_type": "display_data"
    }
   ],
   "source": [
    "plot = songs_df[['title', 'repetitiveness', 'positive_sentiment', 'negative_sentiment']].plot(kind='bar', x='title', title='Song Statistics\\n%s' % (artist))\n",
    "plot.legend(bbox_to_anchor=(1.35, 1), loc='upper right', ncol=1)"
   ]
  },
  {
   "cell_type": "markdown",
   "metadata": {},
   "source": [
    "# Find most repetitive, positive and negative album"
   ]
  },
  {
   "cell_type": "code",
   "execution_count": 22,
   "metadata": {
    "collapsed": false
   },
   "outputs": [
    {
     "data": {
      "text/plain": [
       "<matplotlib.axes._subplots.AxesSubplot at 0x7f3cab6588d0>"
      ]
     },
     "execution_count": 22,
     "metadata": {},
     "output_type": "execute_result"
    },
    {
     "name": "stderr",
     "output_type": "stream",
     "text": [
      "/software/miniconda3/lib/python3.5/site-packages/matplotlib/font_manager.py:1297: UserWarning: findfont: Font family ['sans-serif'] not found. Falling back to DejaVu Sans\n",
      "  (prop.get_family(), self.defaultFamily[fontext]))\n"
     ]
    },
    {
     "data": {
      "image/png": "[encoded data removed]",
      "text/plain": [
       "<matplotlib.figure.Figure at 0x7f3c93afa908>"
      ]
     },
     "metadata": {},
     "output_type": "display_data"
    }
   ],
   "source": [
    "albums_groups = songs_df.groupby('album')['repetitiveness', 'negative_sentiment', 'positive_sentiment', 'word_count'].agg(['count', 'sum'])\n",
    "albums_groups['repetitiveness_normalized'] = albums_groups['repetitiveness']['sum'] / albums_groups['repetitiveness']['count']\n",
    "albums_groups['negative_sentiment_normalized'] = albums_groups['negative_sentiment']['sum'] / albums_groups['negative_sentiment']['count']\n",
    "albums_groups['positive_sentiment_normalized'] = albums_groups['positive_sentiment']['sum'] / albums_groups['positive_sentiment']['count']\n",
    "albums_groups['words_per_song'] = albums_groups['word_count']['sum'] / albums_groups['word_count']['count']\n",
    "albums_groups.drop('repetitiveness', axis=1, inplace=True)\n",
    "albums_groups.drop('positive_sentiment', axis=1, inplace=True)\n",
    "albums_groups.drop('negative_sentiment', axis=1, inplace=True)\n",
    "albums_groups.drop('word_count', axis=1, inplace=True)\n",
    "album_stats = albums_groups.reset_index().stack()\n",
    "album_stats = album_stats.rename(columns = {'repetitiveness_normalized':'Repetitiveness', 'negative_sentiment_normalized': 'Negative Sentiment', 'positive_sentiment_normalized': 'Positive Sentiment', 'words_per_song': 'Avg. Words Per Song'})\n",
    "album_stats[['album', 'Negative Sentiment', 'Positive Sentiment', 'Repetitiveness']].plot(kind='bar', x='album', title='Album Statistics\\n%s' % (artist))"
   ]
  },
  {
   "cell_type": "markdown",
   "metadata": {},
   "source": [
    "# Find average words per song for each album"
   ]
  },
  {
   "cell_type": "code",
   "execution_count": 23,
   "metadata": {
    "collapsed": false
   },
   "outputs": [
    {
     "data": {
      "text/plain": [
       "<matplotlib.axes._subplots.AxesSubplot at 0x7f3cab9a3cc0>"
      ]
     },
     "execution_count": 23,
     "metadata": {},
     "output_type": "execute_result"
    },
    {
     "name": "stderr",
     "output_type": "stream",
     "text": [
      "/software/miniconda3/lib/python3.5/site-packages/matplotlib/font_manager.py:1297: UserWarning: findfont: Font family ['sans-serif'] not found. Falling back to DejaVu Sans\n",
      "  (prop.get_family(), self.defaultFamily[fontext]))\n"
     ]
    },
    {
     "data": {
      "image/png": "[encoded data removed]",
      "text/plain": [
       "<matplotlib.figure.Figure at 0x7f3c93b0bfd0>"
      ]
     },
     "metadata": {},
     "output_type": "display_data"
    }
   ],
   "source": [
    "album_stats[['album', 'Avg. Words Per Song']].plot(kind='bar', x='album', title='Album Statistics\\n%s' % (artist))"
   ]
  },
  {
   "cell_type": "markdown",
   "metadata": {},
   "source": [
    "# Most repetitive album"
   ]
  },
  {
   "cell_type": "code",
   "execution_count": 24,
   "metadata": {
    "collapsed": false
   },
   "outputs": [
    {
     "data": {
      "text/html": [
       "<div>\n",
       "<table border=\"1\" class=\"dataframe\">\n",
       "  <thead>\n",
       "    <tr style=\"text-align: right;\">\n",
       "      <th></th>\n",
       "      <th></th>\n",
       "      <th>album</th>\n",
       "      <th>Negative Sentiment</th>\n",
       "      <th>Positive Sentiment</th>\n",
       "      <th>Repetitiveness</th>\n",
       "      <th>Avg. Words Per Song</th>\n",
       "    </tr>\n",
       "  </thead>\n",
       "  <tbody>\n",
       "    <tr>\n",
       "      <th>1</th>\n",
       "      <th></th>\n",
       "      <td>Blurryface</td>\n",
       "      <td>0.091901</td>\n",
       "      <td>0.124535</td>\n",
       "      <td>0.674829</td>\n",
       "      <td>129.214286</td>\n",
       "    </tr>\n",
       "  </tbody>\n",
       "</table>\n",
       "</div>"
      ],
      "text/plain": [
       "         album  Negative Sentiment  Positive Sentiment  Repetitiveness  \\\n",
       "1   Blurryface            0.091901            0.124535        0.674829   \n",
       "\n",
       "    Avg. Words Per Song  \n",
       "1            129.214286  "
      ]
     },
     "execution_count": 24,
     "metadata": {},
     "output_type": "execute_result"
    }
   ],
   "source": [
    "album_stats.nlargest(1, 'Repetitiveness')"
   ]
  },
  {
   "cell_type": "markdown",
   "metadata": {},
   "source": [
    "# Most positive  album"
   ]
  },
  {
   "cell_type": "code",
   "execution_count": 25,
   "metadata": {
    "collapsed": false
   },
   "outputs": [
    {
     "data": {
      "text/html": [
       "<div>\n",
       "<table border=\"1\" class=\"dataframe\">\n",
       "  <thead>\n",
       "    <tr style=\"text-align: right;\">\n",
       "      <th></th>\n",
       "      <th></th>\n",
       "      <th>album</th>\n",
       "      <th>Negative Sentiment</th>\n",
       "      <th>Positive Sentiment</th>\n",
       "      <th>Repetitiveness</th>\n",
       "      <th>Avg. Words Per Song</th>\n",
       "    </tr>\n",
       "  </thead>\n",
       "  <tbody>\n",
       "    <tr>\n",
       "      <th>0</th>\n",
       "      <th></th>\n",
       "      <td></td>\n",
       "      <td>0.076503</td>\n",
       "      <td>0.130161</td>\n",
       "      <td>0.503605</td>\n",
       "      <td>106.444444</td>\n",
       "    </tr>\n",
       "  </tbody>\n",
       "</table>\n",
       "</div>"
      ],
      "text/plain": [
       "   album  Negative Sentiment  Positive Sentiment  Repetitiveness  \\\n",
       "0                   0.076503            0.130161        0.503605   \n",
       "\n",
       "    Avg. Words Per Song  \n",
       "0            106.444444  "
      ]
     },
     "execution_count": 25,
     "metadata": {},
     "output_type": "execute_result"
    }
   ],
   "source": [
    "album_stats.nlargest(1, 'Positive Sentiment')"
   ]
  },
  {
   "cell_type": "markdown",
   "metadata": {},
   "source": [
    "# Most negative  album"
   ]
  },
  {
   "cell_type": "code",
   "execution_count": 26,
   "metadata": {
    "collapsed": false
   },
   "outputs": [
    {
     "data": {
      "text/html": [
       "<div>\n",
       "<table border=\"1\" class=\"dataframe\">\n",
       "  <thead>\n",
       "    <tr style=\"text-align: right;\">\n",
       "      <th></th>\n",
       "      <th></th>\n",
       "      <th>album</th>\n",
       "      <th>Negative Sentiment</th>\n",
       "      <th>Positive Sentiment</th>\n",
       "      <th>Repetitiveness</th>\n",
       "      <th>Avg. Words Per Song</th>\n",
       "    </tr>\n",
       "  </thead>\n",
       "  <tbody>\n",
       "    <tr>\n",
       "      <th>4</th>\n",
       "      <th></th>\n",
       "      <td>Vessel</td>\n",
       "      <td>0.103477</td>\n",
       "      <td>0.078522</td>\n",
       "      <td>0.603729</td>\n",
       "      <td>118.333333</td>\n",
       "    </tr>\n",
       "  </tbody>\n",
       "</table>\n",
       "</div>"
      ],
      "text/plain": [
       "     album  Negative Sentiment  Positive Sentiment  Repetitiveness  \\\n",
       "4   Vessel            0.103477            0.078522        0.603729   \n",
       "\n",
       "    Avg. Words Per Song  \n",
       "4            118.333333  "
      ]
     },
     "execution_count": 26,
     "metadata": {},
     "output_type": "execute_result"
    }
   ],
   "source": [
    "album_stats.nlargest(1, 'Negative Sentiment')"
   ]
  }
 ],
 "metadata": {
  "kernelspec": {
   "display_name": "Python 3",
   "language": "python",
   "name": "python3"
  },
  "language_info": {
   "codemirror_mode": {
    "name": "ipython",
    "version": 3
   },
   "file_extension": ".py",
   "mimetype": "text/x-python",
   "name": "python",
   "nbconvert_exporter": "python",
   "pygments_lexer": "ipython3",
   "version": "3.5.2"
  }
 },
 "nbformat": 4,
 "nbformat_minor": 2
}
