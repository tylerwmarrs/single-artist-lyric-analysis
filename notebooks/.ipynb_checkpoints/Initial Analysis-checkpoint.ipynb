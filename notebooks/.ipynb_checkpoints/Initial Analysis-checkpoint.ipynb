{
 "cells": [
  {
   "cell_type": "code",
   "execution_count": 84,
   "metadata": {
    "collapsed": true
   },
   "outputs": [],
   "source": [
    "%matplotlib inline"
   ]
  },
  {
   "cell_type": "code",
   "execution_count": 73,
   "metadata": {
    "collapsed": false
   },
   "outputs": [],
   "source": [
    "import os\n",
    "import sys\n",
    "\n",
    "project_dir = os.path.split(os.getcwd())[0]\n",
    "\n",
    "if project_dir not in sys.path:\n",
    "   sys.path.append(project_dir)\n",
    "\n",
    "from lyricanalysis import corpus"
   ]
  },
  {
   "cell_type": "markdown",
   "metadata": {},
   "source": [
    "# Load up all of the songs for given artist"
   ]
  },
  {
   "cell_type": "code",
   "execution_count": 74,
   "metadata": {
    "collapsed": false
   },
   "outputs": [],
   "source": [
    "songs = corpus.songs_for_artist('The Beatles')"
   ]
  },
  {
   "cell_type": "markdown",
   "metadata": {},
   "source": [
    "# Clean the lyrics"
   ]
  },
  {
   "cell_type": "code",
   "execution_count": 75,
   "metadata": {
    "collapsed": false
   },
   "outputs": [],
   "source": [
    "import re\n",
    "\n",
    "tagged = re.compile('\\[.*\\]')\n",
    "produced = re.compile('[p|P]roduced.*')\n",
    "\n",
    "def clean_lyrics(lyrics):\n",
    "    new_lyrics = tagged.sub('', lyrics)\n",
    "    new_lyrics = produced.sub('', new_lyrics)\n",
    "    \n",
    "    return new_lyrics\n",
    "\n",
    "for song in songs:\n",
    "    song['lyrics'] = clean_lyrics(song['lyrics'])"
   ]
  },
  {
   "cell_type": "markdown",
   "metadata": {},
   "source": [
    "# Word tokenize, remove stop words and stem"
   ]
  },
  {
   "cell_type": "code",
   "execution_count": 76,
   "metadata": {
    "collapsed": false
   },
   "outputs": [],
   "source": [
    "import string\n",
    "import unicodedata\n",
    "import sys\n",
    "\n",
    "from nltk.corpus import stopwords\n",
    "from nltk.tokenize import word_tokenize\n",
    "from nltk import FreqDist\n",
    "from nltk.stem import PorterStemmer\n",
    "\n",
    "import pandas as pd\n",
    "\n",
    "punc_tbl = dict.fromkeys(i for i in range(sys.maxunicode)\n",
    "                      if unicodedata.category(chr(i)).startswith('P'))\n",
    "\n",
    "def stem_words(words):\n",
    "    stemmer = PorterStemmer()\n",
    "    return [stemmer.stem(w) for w in words]\n",
    "\n",
    "def remove_punctuation(text):\n",
    "    return text.translate(punc_tbl)\n",
    "\n",
    "def remove_stop_words(words):\n",
    "    \"\"\"Remove stop words from a list of words.\"\"\"\n",
    "    wl = []    \n",
    "    stop_words = corpus.stop_words()\n",
    "    for word in words:\n",
    "        word = word.lower()\n",
    "        if word not in stop_words:\n",
    "            wl.append(word)\n",
    "    \n",
    "    return wl\n",
    "\n",
    "normalized_word_frequencies = {}\n",
    "\n",
    "for song in songs:\n",
    "    song['word_tokens'] = stem_words(remove_stop_words(word_tokenize(remove_punctuation(song['lyrics']))))\n",
    "    dist = FreqDist(song['word_tokens'])\n",
    "\n",
    "    for w in dist:\n",
    "        if not w in normalized_word_frequencies:\n",
    "            normalized_word_frequencies[w] = 0\n",
    "\n",
    "        normalized_word_frequencies[w] = normalized_word_frequencies[w] + dist.freq(w)\n",
    "        \n",
    "for w, v in normalized_word_frequencies.items():\n",
    "    normalized_word_frequencies[w] = v / len(songs)"
   ]
  },
  {
   "cell_type": "code",
   "execution_count": 77,
   "metadata": {
    "collapsed": false
   },
   "outputs": [
    {
     "data": {
      "text/plain": [
       "<matplotlib.text.Text at 0x7f9bfb704940>"
      ]
     },
     "execution_count": 77,
     "metadata": {},
     "output_type": "execute_result"
    },
    {
     "data": {
      "image/png": "[encoded data removed]",
      "text/plain": [
       "<matplotlib.figure.Figure at 0x7f9bfe918940>"
      ]
     },
     "metadata": {},
     "output_type": "display_data"
    }
   ],
   "source": [
    "df = pd.DataFrame.from_dict(normalized_word_frequencies, orient='index')\n",
    "word_freq = df.nlargest(25, 0).plot(kind='bar', title='Normalized Word Frequency', legend=False)\n",
    "word_freq.set_xlabel(\"Word\")\n",
    "word_freq.set_ylabel(\"Distribution\")"
   ]
  },
  {
   "cell_type": "markdown",
   "metadata": {},
   "source": [
    "# Stemmed and normalized swear word frequency"
   ]
  },
  {
   "cell_type": "code",
   "execution_count": 82,
   "metadata": {
    "collapsed": true
   },
   "outputs": [],
   "source": [
    "swear_words = set(stem_words(corpus.swear_words()))\n",
    "\n",
    "normalized_word_frequencies = {}\n",
    "\n",
    "for song in songs:\n",
    "    song['word_tokens'] = stem_words(remove_stop_words(word_tokenize(remove_punctuation(song['lyrics']))))\n",
    "    dist = FreqDist(song['word_tokens'])\n",
    "\n",
    "    for sw in swear_words:\n",
    "        if not sw in normalized_word_frequencies:\n",
    "            normalized_word_frequencies[sw] = 0\n",
    "\n",
    "        normalized_word_frequencies[sw] = normalized_word_frequencies[sw] + dist.freq(sw)\n",
    "        \n",
    "for w, v in normalized_word_frequencies.items():\n",
    "    normalized_word_frequencies[w] = v / len(songs)"
   ]
  },
  {
   "cell_type": "code",
   "execution_count": 88,
   "metadata": {
    "collapsed": false
   },
   "outputs": [
    {
     "data": {
      "text/plain": [
       "<matplotlib.text.Text at 0x7f9bfb2724e0>"
      ]
     },
     "execution_count": 88,
     "metadata": {},
     "output_type": "execute_result"
    },
    {
     "data": {
      "image/png": "[encoded data removed]",
      "text/plain": [
       "<matplotlib.figure.Figure at 0x7f9bfada8dd8>"
      ]
     },
     "metadata": {},
     "output_type": "display_data"
    }
   ],
   "source": [
    "df = pd.DataFrame.from_dict(normalized_word_frequencies, orient='index')\n",
    "word_freq = df.nlargest(5, 0).plot(kind='bar', title='Swear Word Frequency', legend=False)\n",
    "word_freq.set_xlabel(\"Word\")\n",
    "word_freq.set_ylabel(\"Distribution\")"
   ]
  },
  {
   "cell_type": "markdown",
   "metadata": {},
   "source": [
    "# Sentiment analysis with Vader"
   ]
  },
  {
   "cell_type": "code",
   "execution_count": 92,
   "metadata": {
    "collapsed": false
   },
   "outputs": [
    {
     "name": "stdout",
     "output_type": "stream",
     "text": [
      "\n",
      "\n",
      "\n",
      "\n"
     ]
    },
    {
     "ename": "ZeroDivisionError",
     "evalue": "division by zero",
     "output_type": "error",
     "traceback": [
      "\u001b[0;31m---------------------------------------------------------------------------\u001b[0m",
      "\u001b[0;31mZeroDivisionError\u001b[0m                         Traceback (most recent call last)",
      "\u001b[0;32m<ipython-input-92-063241b87e31>\u001b[0m in \u001b[0;36m<module>\u001b[0;34m()\u001b[0m\n\u001b[1;32m     43\u001b[0m \u001b[0mall_sentiments\u001b[0m \u001b[0;34m=\u001b[0m \u001b[0;34m{\u001b[0m\u001b[0;34m}\u001b[0m\u001b[0;34m\u001b[0m\u001b[0m\n\u001b[1;32m     44\u001b[0m \u001b[0;32mfor\u001b[0m \u001b[0msong\u001b[0m \u001b[0;32min\u001b[0m \u001b[0msongs\u001b[0m\u001b[0;34m:\u001b[0m\u001b[0;34m\u001b[0m\u001b[0m\n\u001b[0;32m---> 45\u001b[0;31m     \u001b[0msentiments\u001b[0m \u001b[0;34m=\u001b[0m \u001b[0msentiment_for_song\u001b[0m\u001b[0;34m(\u001b[0m\u001b[0msong\u001b[0m\u001b[0;34m[\u001b[0m\u001b[0;34m'lyrics'\u001b[0m\u001b[0;34m]\u001b[0m\u001b[0;34m)\u001b[0m\u001b[0;34m\u001b[0m\u001b[0m\n\u001b[0m\u001b[1;32m     46\u001b[0m \u001b[0;34m\u001b[0m\u001b[0m\n\u001b[1;32m     47\u001b[0m     \u001b[0;31m# add sentiment to song data\u001b[0m\u001b[0;34m\u001b[0m\u001b[0;34m\u001b[0m\u001b[0m\n",
      "\u001b[0;32m<ipython-input-92-063241b87e31>\u001b[0m in \u001b[0;36msentiment_for_song\u001b[0;34m(text)\u001b[0m\n\u001b[1;32m     37\u001b[0m \u001b[0;34m\u001b[0m\u001b[0m\n\u001b[1;32m     38\u001b[0m     \u001b[0;32mfor\u001b[0m \u001b[0mkey\u001b[0m \u001b[0;32min\u001b[0m \u001b[0mtotal_ss\u001b[0m\u001b[0;34m:\u001b[0m\u001b[0;34m\u001b[0m\u001b[0m\n\u001b[0;32m---> 39\u001b[0;31m         \u001b[0mtotal_ss\u001b[0m\u001b[0;34m[\u001b[0m\u001b[0mkey\u001b[0m\u001b[0;34m]\u001b[0m \u001b[0;34m=\u001b[0m \u001b[0mtotal_ss\u001b[0m\u001b[0;34m[\u001b[0m\u001b[0mkey\u001b[0m\u001b[0;34m]\u001b[0m \u001b[0;34m/\u001b[0m \u001b[0mlen\u001b[0m\u001b[0;34m(\u001b[0m\u001b[0msentences\u001b[0m\u001b[0;34m)\u001b[0m\u001b[0;34m\u001b[0m\u001b[0m\n\u001b[0m\u001b[1;32m     40\u001b[0m \u001b[0;34m\u001b[0m\u001b[0m\n\u001b[1;32m     41\u001b[0m     \u001b[0;32mreturn\u001b[0m \u001b[0mtotal_ss\u001b[0m\u001b[0;34m\u001b[0m\u001b[0m\n",
      "\u001b[0;31mZeroDivisionError\u001b[0m: division by zero"
     ]
    }
   ],
   "source": [
    "from nltk.sentiment.vader import SentimentIntensityAnalyzer\n",
    "from nltk.tokenize import sent_tokenize\n",
    "\n",
    "\n",
    "def split_sentences(text):\n",
    "    sentences = []\n",
    "    for sentence in text.split('\\n'):\n",
    "        sentence = sentence.strip()\n",
    "        \n",
    "        if sentence:\n",
    "            sentences.append(sentence)\n",
    "\n",
    "    return sentences\n",
    "\n",
    "\n",
    "def sentiment_for_song(text):\n",
    "    sid = SentimentIntensityAnalyzer()\n",
    "\n",
    "    # can't use sent_tokenize with lyrics... just split on newline\n",
    "    sentences = split_sentences(text)\n",
    "    total_ss = {\n",
    "        'negative': 0,\n",
    "        'positive': 0,\n",
    "        'neutral': 0,\n",
    "        'compound': 0\n",
    "    }\n",
    "\n",
    "    for sentence in sentences:\n",
    "        ss = sid.polarity_scores(sentence)\n",
    "        total_ss['negative'] = total_ss['negative'] + ss['neg']\n",
    "        total_ss['positive'] = total_ss['positive'] + ss['pos']\n",
    "        total_ss['neutral'] = total_ss['neutral'] + ss['neu']\n",
    "        total_ss['compound'] = total_ss['compound'] + ss['compound']\n",
    "        \n",
    "    for key in total_ss:\n",
    "        total_ss[key] = total_ss[key] / len(sentences)\n",
    "        \n",
    "    return total_ss\n",
    "\n",
    "all_sentiments = {}\n",
    "for song in songs:\n",
    "    sentiments = sentiment_for_song(song['lyrics'])\n",
    "\n",
    "    # add sentiment to song data\n",
    "    song['positive_sentiment'] = sentiments['positive']\n",
    "    song['negative_sentiment'] = sentiments['negative']\n",
    "    song['neutral_sentiment'] = sentiments['neutral']\n",
    "    \n",
    "    for key in sentiments:\n",
    "        if key not in all_sentiments:\n",
    "            all_sentiments[key] = 0\n",
    "            \n",
    "        all_sentiments[key] = all_sentiments[key] + sentiments[key]\n",
    "\n",
    "# normalize for number of songs\n",
    "print(all_sentiments)\n",
    "for key in all_sentiments:\n",
    "    all_sentiments[key] = all_sentiments[key] / len(songs)\n",
    "\n"
   ]
  },
  {
   "cell_type": "code",
   "execution_count": null,
   "metadata": {
    "collapsed": true
   },
   "outputs": [],
   "source": []
  },
  {
   "cell_type": "code",
   "execution_count": null,
   "metadata": {
    "collapsed": true
   },
   "outputs": [],
   "source": []
  },
  {
   "cell_type": "code",
   "execution_count": null,
   "metadata": {
    "collapsed": true
   },
   "outputs": [],
   "source": []
  },
  {
   "cell_type": "markdown",
   "metadata": {},
   "source": [
    "# TFIDF SKLEARN"
   ]
  },
  {
   "cell_type": "code",
   "execution_count": 80,
   "metadata": {
    "collapsed": false
   },
   "outputs": [
    {
     "name": "stdout",
     "output_type": "stream",
     "text": [
      "held                 0.30594687769602263\n",
      "dance whooh          0.23885566497407815\n",
      "whooh                0.23885566497407815\n",
      "whooh standing       0.23885566497407815\n",
      "dance                0.21339071478421925\n",
      "standing             0.21339071478421925\n",
      "boom crossed         0.15923710998271878\n",
      "crossed held         0.15923710998271878\n",
      "danced               0.15923710998271878\n",
      "danced night         0.15923710998271878\n",
      "heart boom           0.15923710998271878\n",
      "held hand            0.15923710998271878\n",
      "held tight           0.15923710998271878\n",
      "ll dance             0.15923710998271878\n",
      "mine whoah           0.15923710998271878\n",
      "standing heart       0.15923710998271878\n",
      "tight fell           0.15923710998271878\n",
      "whoah danced         0.15923710998271878\n",
      "night held           0.15297343884801132\n",
      "boom                 0.14785564688942965\n"
     ]
    }
   ],
   "source": [
    "from sklearn.feature_extraction.text import TfidfVectorizer\n",
    "tf = TfidfVectorizer(analyzer='word', ngram_range=(1,2), min_df = 0, stop_words = corpus.stop_words())\n",
    "\n",
    "song_corpus = [song['lyrics'] for song in songs]\n",
    "\n",
    "tfidf_matrix = tf.fit_transform(song_corpus)\n",
    "feature_names = tf.get_feature_names()\n",
    "dense = tfidf_matrix.todense()\n",
    "song = dense[0].tolist()[0]\n",
    "phrase_scores = [pair for pair in zip(range(0, len(song)), song) if pair[1] > 0]\n",
    "sorted_phrase_scores = sorted(phrase_scores, key=lambda t: t[1] * -1)\n",
    "for phrase, score in [(feature_names[word_id], score) for (word_id, score) in sorted_phrase_scores][:20]:\n",
    "   print('{0: <20} {1}'.format(phrase, score))"
   ]
  },
  {
   "cell_type": "markdown",
   "metadata": {},
   "source": [
    "# Topic modelling..."
   ]
  },
  {
   "cell_type": "code",
   "execution_count": 81,
   "metadata": {
    "collapsed": false
   },
   "outputs": [
    {
     "name": "stdout",
     "output_type": "stream",
     "text": [
      "Topic 0:\n",
      "\n",
      "love love love whoa love love whoa whoa\n",
      "Topic 1:\n",
      "\n",
      "yeah yeah yeah loves ve feeling feeling\n",
      "Topic 2:\n",
      "\n",
      "da da da mm mm mm dum\n",
      "Topic 0:\n",
      "\n",
      "yeah love da yeah yeah baby\n",
      "Topic 1:\n",
      "\n",
      "don love ll re girl\n",
      "Topic 2:\n",
      "\n",
      "love love love julia yeah dreams\n"
     ]
    }
   ],
   "source": [
    "from sklearn.decomposition import NMF, LatentDirichletAllocation\n",
    "\n",
    "def display_topics(model, feature_names, no_top_words):\n",
    "    for topic_idx, topic in enumerate(model.components_):\n",
    "        print(\"Topic %d:\" % (topic_idx))\n",
    "        print()\n",
    "        print(\" \".join([feature_names[i]\n",
    "                        for i in topic.argsort()[:-no_top_words - 1:-1]]))\n",
    "\n",
    "no_topics = 3\n",
    "\n",
    "# Run NMF\n",
    "nmf = NMF(n_components=no_topics, random_state=1, alpha=.1, l1_ratio=.5, init='nndsvd').fit(tfidf_matrix)\n",
    "\n",
    "# Run LDA\n",
    "lda = LatentDirichletAllocation(n_topics=no_topics, max_iter=20, learning_method='online', learning_offset=50.,random_state=0).fit(tfidf_matrix)\n",
    "\n",
    "no_top_words = 5\n",
    "display_topics(nmf, feature_names, no_top_words)\n",
    "display_topics(lda, feature_names, no_top_words)"
   ]
  },
  {
   "cell_type": "code",
   "execution_count": null,
   "metadata": {
    "collapsed": true
   },
   "outputs": [],
   "source": []
  },
  {
   "cell_type": "code",
   "execution_count": null,
   "metadata": {
    "collapsed": true
   },
   "outputs": [],
   "source": []
  },
  {
   "cell_type": "code",
   "execution_count": null,
   "metadata": {
    "collapsed": true
   },
   "outputs": [],
   "source": []
  }
 ],
 "metadata": {
  "kernelspec": {
   "display_name": "Python 3",
   "language": "python",
   "name": "python3"
  },
  "language_info": {
   "codemirror_mode": {
    "name": "ipython",
    "version": 3
   },
   "file_extension": ".py",
   "mimetype": "text/x-python",
   "name": "python",
   "nbconvert_exporter": "python",
   "pygments_lexer": "ipython3",
   "version": "3.5.2"
  }
 },
 "nbformat": 4,
 "nbformat_minor": 2
}
